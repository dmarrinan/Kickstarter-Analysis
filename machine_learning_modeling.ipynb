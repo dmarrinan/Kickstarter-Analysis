{
 "cells": [
  {
   "cell_type": "markdown",
   "metadata": {},
   "source": [
    "# Load Data"
   ]
  },
  {
   "cell_type": "code",
   "execution_count": 1,
   "metadata": {
    "collapsed": true
   },
   "outputs": [],
   "source": [
    "# import dependencies\n",
    "import pandas as pd\n",
    "import numpy as np\n",
    "import sqlalchemy\n",
    "from sqlalchemy.ext.automap import automap_base\n",
    "from sqlalchemy.orm import Session\n",
    "from sqlalchemy import create_engine, inspect, func"
   ]
  },
  {
   "cell_type": "code",
   "execution_count": 2,
   "metadata": {
    "collapsed": true
   },
   "outputs": [],
   "source": [
    "# reflect database table into classes\n",
    "engine = create_engine(\"sqlite:///db/kickstarter_campaigns.sqlite\", echo=False)\n",
    "\n",
    "Base = automap_base()\n",
    "Base.prepare(engine, reflect=True)\n",
    "Kickstarter = Base.classes.kickstarter_campaigns\n",
    "\n",
    "session = Session(engine)"
   ]
  },
  {
   "cell_type": "code",
   "execution_count": 3,
   "metadata": {},
   "outputs": [
    {
     "name": "stdout",
     "output_type": "stream",
     "text": [
      "188137 rows of data loaded\n"
     ]
    },
    {
     "data": {
      "text/html": [
       "<div>\n",
       "<style>\n",
       "    .dataframe thead tr:only-child th {\n",
       "        text-align: right;\n",
       "    }\n",
       "\n",
       "    .dataframe thead th {\n",
       "        text-align: left;\n",
       "    }\n",
       "\n",
       "    .dataframe tbody tr th {\n",
       "        vertical-align: top;\n",
       "    }\n",
       "</style>\n",
       "<table border=\"1\" class=\"dataframe\">\n",
       "  <thead>\n",
       "    <tr style=\"text-align: right;\">\n",
       "      <th></th>\n",
       "      <th>backers_count</th>\n",
       "      <th>blurb</th>\n",
       "      <th>country</th>\n",
       "      <th>currency</th>\n",
       "      <th>deadline</th>\n",
       "      <th>fx_rate</th>\n",
       "      <th>goal</th>\n",
       "      <th>id</th>\n",
       "      <th>name</th>\n",
       "      <th>pledged</th>\n",
       "      <th>...</th>\n",
       "      <th>blurb_sentiment_positive</th>\n",
       "      <th>blurb_sentiment_negative</th>\n",
       "      <th>blurb_sentiment_neutral</th>\n",
       "      <th>title_length</th>\n",
       "      <th>title_sentiment_compound</th>\n",
       "      <th>title_sentiment_positive</th>\n",
       "      <th>title_sentiment_negative</th>\n",
       "      <th>title_sentiment_neutral</th>\n",
       "      <th>usd_goal</th>\n",
       "      <th>pct_complete</th>\n",
       "    </tr>\n",
       "    <tr>\n",
       "      <th>index</th>\n",
       "      <th></th>\n",
       "      <th></th>\n",
       "      <th></th>\n",
       "      <th></th>\n",
       "      <th></th>\n",
       "      <th></th>\n",
       "      <th></th>\n",
       "      <th></th>\n",
       "      <th></th>\n",
       "      <th></th>\n",
       "      <th></th>\n",
       "      <th></th>\n",
       "      <th></th>\n",
       "      <th></th>\n",
       "      <th></th>\n",
       "      <th></th>\n",
       "      <th></th>\n",
       "      <th></th>\n",
       "      <th></th>\n",
       "      <th></th>\n",
       "      <th></th>\n",
       "    </tr>\n",
       "  </thead>\n",
       "  <tbody>\n",
       "    <tr>\n",
       "      <th>1</th>\n",
       "      <td>80</td>\n",
       "      <td>I will be an artist-in-residence at Elsewhere ...</td>\n",
       "      <td>US</td>\n",
       "      <td>USD</td>\n",
       "      <td>2012-04-19 15:16:00</td>\n",
       "      <td>1.0</td>\n",
       "      <td>2800.0</td>\n",
       "      <td>1562040083</td>\n",
       "      <td>Elsewhere Studios artist-in-residency program!</td>\n",
       "      <td>3596.0</td>\n",
       "      <td>...</td>\n",
       "      <td>0.000</td>\n",
       "      <td>0.0</td>\n",
       "      <td>1.000</td>\n",
       "      <td>46</td>\n",
       "      <td>0.0</td>\n",
       "      <td>0.0</td>\n",
       "      <td>0.0</td>\n",
       "      <td>1.0</td>\n",
       "      <td>2800.0</td>\n",
       "      <td>1.284286</td>\n",
       "    </tr>\n",
       "    <tr>\n",
       "      <th>2</th>\n",
       "      <td>47</td>\n",
       "      <td>We are looking to bring a Visiting Sculptor fr...</td>\n",
       "      <td>US</td>\n",
       "      <td>USD</td>\n",
       "      <td>2012-04-20 17:06:38</td>\n",
       "      <td>1.0</td>\n",
       "      <td>3900.0</td>\n",
       "      <td>1437561817</td>\n",
       "      <td>Martin Luther King Jr. Sculpture on Campus!</td>\n",
       "      <td>4117.0</td>\n",
       "      <td>...</td>\n",
       "      <td>0.084</td>\n",
       "      <td>0.0</td>\n",
       "      <td>0.916</td>\n",
       "      <td>43</td>\n",
       "      <td>0.0</td>\n",
       "      <td>0.0</td>\n",
       "      <td>0.0</td>\n",
       "      <td>1.0</td>\n",
       "      <td>3900.0</td>\n",
       "      <td>1.055641</td>\n",
       "    </tr>\n",
       "    <tr>\n",
       "      <th>3</th>\n",
       "      <td>80</td>\n",
       "      <td>Surrealistic oil paintings capturing the metam...</td>\n",
       "      <td>US</td>\n",
       "      <td>USD</td>\n",
       "      <td>2012-04-16 22:59:00</td>\n",
       "      <td>1.0</td>\n",
       "      <td>750.0</td>\n",
       "      <td>574125813</td>\n",
       "      <td>EMERGENCE: Surreal Oil Paintings by J.J. Long</td>\n",
       "      <td>3125.0</td>\n",
       "      <td>...</td>\n",
       "      <td>0.000</td>\n",
       "      <td>0.0</td>\n",
       "      <td>1.000</td>\n",
       "      <td>45</td>\n",
       "      <td>0.0</td>\n",
       "      <td>0.0</td>\n",
       "      <td>0.0</td>\n",
       "      <td>1.0</td>\n",
       "      <td>750.0</td>\n",
       "      <td>4.166667</td>\n",
       "    </tr>\n",
       "    <tr>\n",
       "      <th>4</th>\n",
       "      <td>82</td>\n",
       "      <td>1000 Artists is a public art-making installati...</td>\n",
       "      <td>US</td>\n",
       "      <td>USD</td>\n",
       "      <td>2012-05-07 20:22:25</td>\n",
       "      <td>1.0</td>\n",
       "      <td>4500.0</td>\n",
       "      <td>858990141</td>\n",
       "      <td>1000 Artists: Presidential Inauguration 2013</td>\n",
       "      <td>4586.0</td>\n",
       "      <td>...</td>\n",
       "      <td>0.000</td>\n",
       "      <td>0.0</td>\n",
       "      <td>1.000</td>\n",
       "      <td>44</td>\n",
       "      <td>0.0</td>\n",
       "      <td>0.0</td>\n",
       "      <td>0.0</td>\n",
       "      <td>1.0</td>\n",
       "      <td>4500.0</td>\n",
       "      <td>1.019111</td>\n",
       "    </tr>\n",
       "    <tr>\n",
       "      <th>5</th>\n",
       "      <td>31</td>\n",
       "      <td>P.M.A.F.T.W. my upcoming solo show June 2012 a...</td>\n",
       "      <td>US</td>\n",
       "      <td>USD</td>\n",
       "      <td>2012-04-02 21:57:23</td>\n",
       "      <td>1.0</td>\n",
       "      <td>1000.0</td>\n",
       "      <td>566704999</td>\n",
       "      <td>P.M.A.F.T.W.</td>\n",
       "      <td>1036.0</td>\n",
       "      <td>...</td>\n",
       "      <td>0.000</td>\n",
       "      <td>0.0</td>\n",
       "      <td>1.000</td>\n",
       "      <td>12</td>\n",
       "      <td>0.0</td>\n",
       "      <td>0.0</td>\n",
       "      <td>0.0</td>\n",
       "      <td>1.0</td>\n",
       "      <td>1000.0</td>\n",
       "      <td>1.036000</td>\n",
       "    </tr>\n",
       "  </tbody>\n",
       "</table>\n",
       "<p>5 rows × 34 columns</p>\n",
       "</div>"
      ],
      "text/plain": [
       "       backers_count                                              blurb  \\\n",
       "index                                                                     \n",
       "1                 80  I will be an artist-in-residence at Elsewhere ...   \n",
       "2                 47  We are looking to bring a Visiting Sculptor fr...   \n",
       "3                 80  Surrealistic oil paintings capturing the metam...   \n",
       "4                 82  1000 Artists is a public art-making installati...   \n",
       "5                 31  P.M.A.F.T.W. my upcoming solo show June 2012 a...   \n",
       "\n",
       "      country currency             deadline  fx_rate    goal          id  \\\n",
       "index                                                                      \n",
       "1          US      USD  2012-04-19 15:16:00      1.0  2800.0  1562040083   \n",
       "2          US      USD  2012-04-20 17:06:38      1.0  3900.0  1437561817   \n",
       "3          US      USD  2012-04-16 22:59:00      1.0   750.0   574125813   \n",
       "4          US      USD  2012-05-07 20:22:25      1.0  4500.0   858990141   \n",
       "5          US      USD  2012-04-02 21:57:23      1.0  1000.0   566704999   \n",
       "\n",
       "                                                 name  pledged     ...       \\\n",
       "index                                                              ...        \n",
       "1      Elsewhere Studios artist-in-residency program!   3596.0     ...        \n",
       "2         Martin Luther King Jr. Sculpture on Campus!   4117.0     ...        \n",
       "3       EMERGENCE: Surreal Oil Paintings by J.J. Long   3125.0     ...        \n",
       "4        1000 Artists: Presidential Inauguration 2013   4586.0     ...        \n",
       "5                                        P.M.A.F.T.W.   1036.0     ...        \n",
       "\n",
       "      blurb_sentiment_positive blurb_sentiment_negative  \\\n",
       "index                                                     \n",
       "1                        0.000                      0.0   \n",
       "2                        0.084                      0.0   \n",
       "3                        0.000                      0.0   \n",
       "4                        0.000                      0.0   \n",
       "5                        0.000                      0.0   \n",
       "\n",
       "       blurb_sentiment_neutral title_length  title_sentiment_compound  \\\n",
       "index                                                                   \n",
       "1                        1.000           46                       0.0   \n",
       "2                        0.916           43                       0.0   \n",
       "3                        1.000           45                       0.0   \n",
       "4                        1.000           44                       0.0   \n",
       "5                        1.000           12                       0.0   \n",
       "\n",
       "      title_sentiment_positive title_sentiment_negative  \\\n",
       "index                                                     \n",
       "1                          0.0                      0.0   \n",
       "2                          0.0                      0.0   \n",
       "3                          0.0                      0.0   \n",
       "4                          0.0                      0.0   \n",
       "5                          0.0                      0.0   \n",
       "\n",
       "      title_sentiment_neutral  usd_goal pct_complete  \n",
       "index                                                 \n",
       "1                         1.0    2800.0     1.284286  \n",
       "2                         1.0    3900.0     1.055641  \n",
       "3                         1.0     750.0     4.166667  \n",
       "4                         1.0    4500.0     1.019111  \n",
       "5                         1.0    1000.0     1.036000  \n",
       "\n",
       "[5 rows x 34 columns]"
      ]
     },
     "execution_count": 3,
     "metadata": {},
     "output_type": "execute_result"
    }
   ],
   "source": [
    "data = engine.execute('SELECT * FROM kickstarter_campaigns')\n",
    "kickstarter_df = pd.DataFrame()\n",
    "record_list = []\n",
    "for record in data:\n",
    "    record_list.append(record)\n",
    "    \n",
    "kickstarter_df = pd.DataFrame(record_list)\n",
    "kickstarter_df.columns = ['index','backers_count','blurb','country','currency','deadline','fx_rate','goal','id',\n",
    "                          'name','pledged','slug','state','category_id','category_name','parent_category_id',\n",
    "                          'creator_profile','creator_name','start_date','campaign_length','month_started','state_or_province',\n",
    "                          'parent_category','blurb_length','blurb_sentiment_compound','blurb_sentiment_positive',\n",
    "                          'blurb_sentiment_negative','blurb_sentiment_neutral','title_length','title_sentiment_compound',\n",
    "                          'title_sentiment_positive','title_sentiment_negative','title_sentiment_neutral','usd_goal',\n",
    "                          'pct_complete']\n",
    "\n",
    "kickstarter_df = kickstarter_df.set_index('index')\n",
    "print(f'{len(kickstarter_df)} rows of data loaded')\n",
    "kickstarter_df.head()"
   ]
  },
  {
   "cell_type": "markdown",
   "metadata": {},
   "source": [
    "# Create ML Models"
   ]
  },
  {
   "cell_type": "code",
   "execution_count": 4,
   "metadata": {},
   "outputs": [
    {
     "name": "stderr",
     "output_type": "stream",
     "text": [
      "Using TensorFlow backend.\n"
     ]
    }
   ],
   "source": [
    "from sklearn.model_selection import train_test_split\n",
    "from sklearn.preprocessing import LabelEncoder, StandardScaler\n",
    "from keras.utils import to_categorical"
   ]
  },
  {
   "cell_type": "code",
   "execution_count": 5,
   "metadata": {
    "collapsed": true
   },
   "outputs": [],
   "source": [
    "X = kickstarter_df.drop(['blurb','country','currency','deadline','fx_rate','id','name','slug','state',\n",
    "                                   'category_id','category_name','parent_category_id','creator_profile',\n",
    "                                   'creator_name', 'start_date', 'month_started','state_or_province','parent_category','backers_count',\n",
    "                                   'pledged', 'pct_complete', 'goal'\n",
    "                                  ], axis=1)\n",
    "              \n",
    "X_categorical_data = [kickstarter_df['country'], kickstarter_df['currency'],kickstarter_df['category_name'],\n",
    "                 kickstarter_df['parent_category'], kickstarter_df['month_started']]\n",
    "              \n",
    "y = kickstarter_df['state']"
   ]
  },
  {
   "cell_type": "code",
   "execution_count": 6,
   "metadata": {
    "collapsed": true
   },
   "outputs": [],
   "source": [
    "# FOR SOME REASON THERE WAS A PROBLEM WITH ENCODING THE STATE --- I HAVE REMOVED IT FOR NOW\n",
    "\n",
    "country_label_encoder = LabelEncoder()\n",
    "currency_label_encoder = LabelEncoder()\n",
    "category_label_encoder = LabelEncoder()\n",
    "parent_category_label_encoder = LabelEncoder()\n",
    "month_label_encoder = LabelEncoder()\n",
    "\n",
    "country_label_encoder.fit(kickstarter_df['country'])\n",
    "currency_label_encoder.fit(kickstarter_df['currency'])\n",
    "category_label_encoder.fit(kickstarter_df['category_name'])\n",
    "parent_category_label_encoder.fit(kickstarter_df['parent_category'])\n",
    "month_label_encoder.fit(kickstarter_df['month_started'])\n",
    "\n",
    "country_encoded = country_label_encoder.transform(kickstarter_df['country'])\n",
    "currency_encoded = currency_label_encoder.transform(kickstarter_df['currency'])\n",
    "category_encoded = category_label_encoder.transform(kickstarter_df['category_name'])\n",
    "parent_category_encoded = parent_category_label_encoder.transform(kickstarter_df['parent_category'])\n",
    "month_encoded = month_label_encoder.transform(kickstarter_df['month_started'])\n",
    "\n",
    "# country_categorical = to_categorical(country_encoded)\n",
    "# currency_categorical = to_categorical(currency_encoded)\n",
    "# category_categorical = to_categorical(category_encoded)\n",
    "# parent_category_categorical = to_categorical(parent_category_encoded)"
   ]
  },
  {
   "cell_type": "code",
   "execution_count": 7,
   "metadata": {
    "scrolled": false
   },
   "outputs": [
    {
     "data": {
      "text/html": [
       "<div>\n",
       "<style>\n",
       "    .dataframe thead tr:only-child th {\n",
       "        text-align: right;\n",
       "    }\n",
       "\n",
       "    .dataframe thead th {\n",
       "        text-align: left;\n",
       "    }\n",
       "\n",
       "    .dataframe tbody tr th {\n",
       "        vertical-align: top;\n",
       "    }\n",
       "</style>\n",
       "<table border=\"1\" class=\"dataframe\">\n",
       "  <thead>\n",
       "    <tr style=\"text-align: right;\">\n",
       "      <th></th>\n",
       "      <th>campaign_length</th>\n",
       "      <th>blurb_length</th>\n",
       "      <th>blurb_sentiment_compound</th>\n",
       "      <th>blurb_sentiment_positive</th>\n",
       "      <th>blurb_sentiment_negative</th>\n",
       "      <th>blurb_sentiment_neutral</th>\n",
       "      <th>title_length</th>\n",
       "      <th>title_sentiment_compound</th>\n",
       "      <th>title_sentiment_positive</th>\n",
       "      <th>title_sentiment_negative</th>\n",
       "      <th>title_sentiment_neutral</th>\n",
       "      <th>usd_goal</th>\n",
       "      <th>parent_category</th>\n",
       "      <th>country</th>\n",
       "      <th>currency</th>\n",
       "      <th>category</th>\n",
       "      <th>month</th>\n",
       "    </tr>\n",
       "    <tr>\n",
       "      <th>index</th>\n",
       "      <th></th>\n",
       "      <th></th>\n",
       "      <th></th>\n",
       "      <th></th>\n",
       "      <th></th>\n",
       "      <th></th>\n",
       "      <th></th>\n",
       "      <th></th>\n",
       "      <th></th>\n",
       "      <th></th>\n",
       "      <th></th>\n",
       "      <th></th>\n",
       "      <th></th>\n",
       "      <th></th>\n",
       "      <th></th>\n",
       "      <th></th>\n",
       "      <th></th>\n",
       "    </tr>\n",
       "  </thead>\n",
       "  <tbody>\n",
       "    <tr>\n",
       "      <th>1</th>\n",
       "      <td>21.96</td>\n",
       "      <td>118</td>\n",
       "      <td>0.0000</td>\n",
       "      <td>0.000</td>\n",
       "      <td>0.0</td>\n",
       "      <td>1.000</td>\n",
       "      <td>46</td>\n",
       "      <td>0.0</td>\n",
       "      <td>0.0</td>\n",
       "      <td>0.0</td>\n",
       "      <td>1.0</td>\n",
       "      <td>2800.0</td>\n",
       "      <td>0</td>\n",
       "      <td>21</td>\n",
       "      <td>13</td>\n",
       "      <td>86</td>\n",
       "      <td>7</td>\n",
       "    </tr>\n",
       "    <tr>\n",
       "      <th>2</th>\n",
       "      <td>23.00</td>\n",
       "      <td>135</td>\n",
       "      <td>0.2732</td>\n",
       "      <td>0.084</td>\n",
       "      <td>0.0</td>\n",
       "      <td>0.916</td>\n",
       "      <td>43</td>\n",
       "      <td>0.0</td>\n",
       "      <td>0.0</td>\n",
       "      <td>0.0</td>\n",
       "      <td>1.0</td>\n",
       "      <td>3900.0</td>\n",
       "      <td>14</td>\n",
       "      <td>21</td>\n",
       "      <td>13</td>\n",
       "      <td>10</td>\n",
       "      <td>7</td>\n",
       "    </tr>\n",
       "    <tr>\n",
       "      <th>3</th>\n",
       "      <td>19.21</td>\n",
       "      <td>90</td>\n",
       "      <td>0.0000</td>\n",
       "      <td>0.000</td>\n",
       "      <td>0.0</td>\n",
       "      <td>1.000</td>\n",
       "      <td>45</td>\n",
       "      <td>0.0</td>\n",
       "      <td>0.0</td>\n",
       "      <td>0.0</td>\n",
       "      <td>1.0</td>\n",
       "      <td>750.0</td>\n",
       "      <td>0</td>\n",
       "      <td>21</td>\n",
       "      <td>13</td>\n",
       "      <td>95</td>\n",
       "      <td>7</td>\n",
       "    </tr>\n",
       "    <tr>\n",
       "      <th>4</th>\n",
       "      <td>40.00</td>\n",
       "      <td>117</td>\n",
       "      <td>0.0000</td>\n",
       "      <td>0.000</td>\n",
       "      <td>0.0</td>\n",
       "      <td>1.000</td>\n",
       "      <td>44</td>\n",
       "      <td>0.0</td>\n",
       "      <td>0.0</td>\n",
       "      <td>0.0</td>\n",
       "      <td>1.0</td>\n",
       "      <td>4500.0</td>\n",
       "      <td>0</td>\n",
       "      <td>21</td>\n",
       "      <td>13</td>\n",
       "      <td>113</td>\n",
       "      <td>7</td>\n",
       "    </tr>\n",
       "    <tr>\n",
       "      <th>5</th>\n",
       "      <td>5.00</td>\n",
       "      <td>61</td>\n",
       "      <td>0.0000</td>\n",
       "      <td>0.000</td>\n",
       "      <td>0.0</td>\n",
       "      <td>1.000</td>\n",
       "      <td>12</td>\n",
       "      <td>0.0</td>\n",
       "      <td>0.0</td>\n",
       "      <td>0.0</td>\n",
       "      <td>1.0</td>\n",
       "      <td>1000.0</td>\n",
       "      <td>0</td>\n",
       "      <td>21</td>\n",
       "      <td>13</td>\n",
       "      <td>95</td>\n",
       "      <td>7</td>\n",
       "    </tr>\n",
       "  </tbody>\n",
       "</table>\n",
       "</div>"
      ],
      "text/plain": [
       "       campaign_length  blurb_length  blurb_sentiment_compound  \\\n",
       "index                                                            \n",
       "1                21.96           118                    0.0000   \n",
       "2                23.00           135                    0.2732   \n",
       "3                19.21            90                    0.0000   \n",
       "4                40.00           117                    0.0000   \n",
       "5                 5.00            61                    0.0000   \n",
       "\n",
       "       blurb_sentiment_positive  blurb_sentiment_negative  \\\n",
       "index                                                       \n",
       "1                         0.000                       0.0   \n",
       "2                         0.084                       0.0   \n",
       "3                         0.000                       0.0   \n",
       "4                         0.000                       0.0   \n",
       "5                         0.000                       0.0   \n",
       "\n",
       "       blurb_sentiment_neutral  title_length  title_sentiment_compound  \\\n",
       "index                                                                    \n",
       "1                        1.000            46                       0.0   \n",
       "2                        0.916            43                       0.0   \n",
       "3                        1.000            45                       0.0   \n",
       "4                        1.000            44                       0.0   \n",
       "5                        1.000            12                       0.0   \n",
       "\n",
       "       title_sentiment_positive  title_sentiment_negative  \\\n",
       "index                                                       \n",
       "1                           0.0                       0.0   \n",
       "2                           0.0                       0.0   \n",
       "3                           0.0                       0.0   \n",
       "4                           0.0                       0.0   \n",
       "5                           0.0                       0.0   \n",
       "\n",
       "       title_sentiment_neutral  usd_goal  parent_category  country  currency  \\\n",
       "index                                                                          \n",
       "1                          1.0    2800.0                0       21        13   \n",
       "2                          1.0    3900.0               14       21        13   \n",
       "3                          1.0     750.0                0       21        13   \n",
       "4                          1.0    4500.0                0       21        13   \n",
       "5                          1.0    1000.0                0       21        13   \n",
       "\n",
       "       category  month  \n",
       "index                   \n",
       "1            86      7  \n",
       "2            10      7  \n",
       "3            95      7  \n",
       "4           113      7  \n",
       "5            95      7  "
      ]
     },
     "execution_count": 7,
     "metadata": {},
     "output_type": "execute_result"
    }
   ],
   "source": [
    "X['parent_category'] = parent_category_encoded\n",
    "X['country'] = country_encoded\n",
    "X['currency'] = currency_encoded\n",
    "X['category'] = category_encoded\n",
    "X['month'] = month_encoded\n",
    "X.head()"
   ]
  },
  {
   "cell_type": "code",
   "execution_count": 8,
   "metadata": {
    "collapsed": true
   },
   "outputs": [],
   "source": [
    "X_scaler = StandardScaler().fit(X)\n",
    "X_scaled = X_scaler.transform(X)"
   ]
  },
  {
   "cell_type": "code",
   "execution_count": 9,
   "metadata": {
    "collapsed": true
   },
   "outputs": [],
   "source": [
    "y_label_encoder = LabelEncoder()\n",
    "y_label_encoder.fit(y)\n",
    "y_encoded = y_label_encoder.transform(y)\n",
    "y_categorical = to_categorical(y_encoded)"
   ]
  },
  {
   "cell_type": "code",
   "execution_count": 10,
   "metadata": {},
   "outputs": [],
   "source": [
    "results_df = pd.DataFrame()"
   ]
  },
  {
   "cell_type": "code",
   "execution_count": 11,
   "metadata": {
    "collapsed": true
   },
   "outputs": [],
   "source": [
    "from sklearn.model_selection import train_test_split\n",
    "X_train, X_test, y_train, y_test = train_test_split(X, y, random_state=42)"
   ]
  },
  {
   "cell_type": "markdown",
   "metadata": {},
   "source": [
    "# Random Forest"
   ]
  },
  {
   "cell_type": "code",
   "execution_count": 12,
   "metadata": {
    "collapsed": true
   },
   "outputs": [],
   "source": [
    "from sklearn import tree\n",
    "from sklearn.ensemble import RandomForestClassifier\n",
    "\n",
    "rf = RandomForestClassifier(n_estimators=200)\n",
    "rf = rf.fit(X_train, y_train)\n",
    "rf_train_score = rf.score(X_train, y_train)\n",
    "rf_test_score = rf.score(X_test, y_test)"
   ]
  },
  {
   "cell_type": "code",
   "execution_count": 13,
   "metadata": {},
   "outputs": [
    {
     "data": {
      "text/plain": [
       "[(0.14801516249742958, 'category'),\n",
       " (0.12481870581157073, 'usd_goal'),\n",
       " (0.093410965611925134, 'title_length'),\n",
       " (0.086790845876917946, 'parent_category'),\n",
       " (0.084030044313026894, 'blurb_length'),\n",
       " (0.080292887747095615, 'campaign_length'),\n",
       " (0.065637432624086736, 'blurb_sentiment_compound'),\n",
       " (0.063106301032716458, 'blurb_sentiment_neutral'),\n",
       " (0.059522880933705863, 'month'),\n",
       " (0.058693912712547675, 'blurb_sentiment_positive'),\n",
       " (0.02741648441893978, 'title_sentiment_compound'),\n",
       " (0.025820899206365554, 'title_sentiment_neutral'),\n",
       " (0.02354447363714678, 'blurb_sentiment_negative'),\n",
       " (0.021645386511431743, 'title_sentiment_positive'),\n",
       " (0.014573938594877534, 'country'),\n",
       " (0.0132723111434291, 'currency'),\n",
       " (0.0094073673267867607, 'title_sentiment_negative')]"
      ]
     },
     "execution_count": 13,
     "metadata": {},
     "output_type": "execute_result"
    }
   ],
   "source": [
    "importances = rf.feature_importances_\n",
    "sorted(zip(rf.feature_importances_, X.columns), reverse=True)"
   ]
  },
  {
   "cell_type": "code",
   "execution_count": 14,
   "metadata": {},
   "outputs": [
    {
     "data": {
      "text/html": [
       "<div>\n",
       "<style>\n",
       "    .dataframe thead tr:only-child th {\n",
       "        text-align: right;\n",
       "    }\n",
       "\n",
       "    .dataframe thead th {\n",
       "        text-align: left;\n",
       "    }\n",
       "\n",
       "    .dataframe tbody tr th {\n",
       "        vertical-align: top;\n",
       "    }\n",
       "</style>\n",
       "<table border=\"1\" class=\"dataframe\">\n",
       "  <thead>\n",
       "    <tr style=\"text-align: right;\">\n",
       "      <th></th>\n",
       "      <th>model</th>\n",
       "      <th>test_score</th>\n",
       "      <th>train_score</th>\n",
       "    </tr>\n",
       "  </thead>\n",
       "  <tbody>\n",
       "    <tr>\n",
       "      <th>0</th>\n",
       "      <td>random_forest</td>\n",
       "      <td>0.739301</td>\n",
       "      <td>0.999986</td>\n",
       "    </tr>\n",
       "  </tbody>\n",
       "</table>\n",
       "</div>"
      ],
      "text/plain": [
       "           model  test_score  train_score\n",
       "0  random_forest    0.739301     0.999986"
      ]
     },
     "execution_count": 14,
     "metadata": {},
     "output_type": "execute_result"
    }
   ],
   "source": [
    "results_df = results_df.append({\"model\":\"random_forest\",\n",
    "                                \"train_score\":rf_train_score,\n",
    "                                \"test_score\":rf_test_score}, \n",
    "                               ignore_index=True)\n",
    "results_df"
   ]
  },
  {
   "cell_type": "code",
   "execution_count": 15,
   "metadata": {
    "collapsed": true
   },
   "outputs": [],
   "source": [
    "# from sklearn.externals import joblib\n",
    "# joblib.dump(rf, f'models/{model_name}.pkl') "
   ]
  },
  {
   "cell_type": "code",
   "execution_count": 16,
   "metadata": {
    "collapsed": true
   },
   "outputs": [],
   "source": [
    "# loaded_model = joblib.load(f'models/{model_name}.pkl')"
   ]
  },
  {
   "cell_type": "code",
   "execution_count": 17,
   "metadata": {
    "collapsed": true
   },
   "outputs": [],
   "source": [
    "# loaded_model.score(X_num_test, y_test)"
   ]
  },
  {
   "cell_type": "markdown",
   "metadata": {
    "collapsed": true
   },
   "source": [
    "# Logistic Regression"
   ]
  },
  {
   "cell_type": "code",
   "execution_count": 18,
   "metadata": {
    "collapsed": true
   },
   "outputs": [],
   "source": [
    "from sklearn.linear_model import LogisticRegression\n",
    "classifier = LogisticRegression()\n",
    "\n",
    "classifier.fit(X_train, y_train)\n",
    "lr_train_score = classifier.score(X_train, y_train)\n",
    "lr_test_score = classifier.score(X_test, y_test)"
   ]
  },
  {
   "cell_type": "code",
   "execution_count": 19,
   "metadata": {},
   "outputs": [
    {
     "data": {
      "text/html": [
       "<div>\n",
       "<style>\n",
       "    .dataframe thead tr:only-child th {\n",
       "        text-align: right;\n",
       "    }\n",
       "\n",
       "    .dataframe thead th {\n",
       "        text-align: left;\n",
       "    }\n",
       "\n",
       "    .dataframe tbody tr th {\n",
       "        vertical-align: top;\n",
       "    }\n",
       "</style>\n",
       "<table border=\"1\" class=\"dataframe\">\n",
       "  <thead>\n",
       "    <tr style=\"text-align: right;\">\n",
       "      <th></th>\n",
       "      <th>model</th>\n",
       "      <th>test_score</th>\n",
       "      <th>train_score</th>\n",
       "    </tr>\n",
       "  </thead>\n",
       "  <tbody>\n",
       "    <tr>\n",
       "      <th>0</th>\n",
       "      <td>random_forest</td>\n",
       "      <td>0.739301</td>\n",
       "      <td>0.999986</td>\n",
       "    </tr>\n",
       "    <tr>\n",
       "      <th>1</th>\n",
       "      <td>logistic_regression</td>\n",
       "      <td>0.608908</td>\n",
       "      <td>0.609431</td>\n",
       "    </tr>\n",
       "  </tbody>\n",
       "</table>\n",
       "</div>"
      ],
      "text/plain": [
       "                 model  test_score  train_score\n",
       "0        random_forest    0.739301     0.999986\n",
       "1  logistic_regression    0.608908     0.609431"
      ]
     },
     "execution_count": 19,
     "metadata": {},
     "output_type": "execute_result"
    }
   ],
   "source": [
    "results_df = results_df.append({\"model\":\"logistic_regression\",\n",
    "                                \"train_score\":lr_train_score,\n",
    "                                \"test_score\":lr_test_score}, \n",
    "                               ignore_index=True)\n",
    "results_df"
   ]
  },
  {
   "cell_type": "markdown",
   "metadata": {},
   "source": [
    "# K Nearest Neighbors"
   ]
  },
  {
   "cell_type": "code",
   "execution_count": 20,
   "metadata": {},
   "outputs": [
    {
     "data": {
      "image/png": "[encoded data removed]",
      "text/plain": [
       "<matplotlib.figure.Figure at 0x1b68eb1cb38>"
      ]
     },
     "metadata": {},
     "output_type": "display_data"
    }
   ],
   "source": [
    "from sklearn.neighbors import KNeighborsClassifier\n",
    "import matplotlib.pyplot as plt\n",
    "\n",
    "train_scores = []\n",
    "test_scores = []\n",
    "\n",
    "for k in range(1,20,2):\n",
    "    knn = KNeighborsClassifier(n_neighbors=k)\n",
    "    knn.fit(X_train, y_train)\n",
    "    train_score = knn.score(X_train, y_train)\n",
    "    test_score = knn.score(X_test, y_test)\n",
    "    train_scores.append(train_score)\n",
    "    test_scores.append(test_score)\n",
    "\n",
    "plt.plot(range(1, 20, 2), train_scores, marker='o')\n",
    "plt.plot(range(1, 20, 2), test_scores, marker=\"x\")\n",
    "plt.xlabel(\"k neighbors\")\n",
    "plt.ylabel(\"Testing accuracy Score\")\n",
    "plt.show()"
   ]
  },
  {
   "cell_type": "code",
   "execution_count": 21,
   "metadata": {},
   "outputs": [
    {
     "data": {
      "text/html": [
       "<div>\n",
       "<style>\n",
       "    .dataframe thead tr:only-child th {\n",
       "        text-align: right;\n",
       "    }\n",
       "\n",
       "    .dataframe thead th {\n",
       "        text-align: left;\n",
       "    }\n",
       "\n",
       "    .dataframe tbody tr th {\n",
       "        vertical-align: top;\n",
       "    }\n",
       "</style>\n",
       "<table border=\"1\" class=\"dataframe\">\n",
       "  <thead>\n",
       "    <tr style=\"text-align: right;\">\n",
       "      <th></th>\n",
       "      <th>model</th>\n",
       "      <th>test_score</th>\n",
       "      <th>train_score</th>\n",
       "    </tr>\n",
       "  </thead>\n",
       "  <tbody>\n",
       "    <tr>\n",
       "      <th>0</th>\n",
       "      <td>random_forest</td>\n",
       "      <td>0.739301</td>\n",
       "      <td>0.999986</td>\n",
       "    </tr>\n",
       "    <tr>\n",
       "      <th>1</th>\n",
       "      <td>logistic_regression</td>\n",
       "      <td>0.608908</td>\n",
       "      <td>0.609431</td>\n",
       "    </tr>\n",
       "    <tr>\n",
       "      <th>2</th>\n",
       "      <td>k_nearest_neigbors_9</td>\n",
       "      <td>0.622451</td>\n",
       "      <td>0.713328</td>\n",
       "    </tr>\n",
       "  </tbody>\n",
       "</table>\n",
       "</div>"
      ],
      "text/plain": [
       "                  model  test_score  train_score\n",
       "0         random_forest    0.739301     0.999986\n",
       "1   logistic_regression    0.608908     0.609431\n",
       "2  k_nearest_neigbors_9    0.622451     0.713328"
      ]
     },
     "execution_count": 21,
     "metadata": {},
     "output_type": "execute_result"
    }
   ],
   "source": [
    "results_df = results_df.append({\"model\":\"k_nearest_neigbors_9\",\n",
    "                                \"train_score\":train_scores[3],\n",
    "                                \"test_score\":test_scores[3]}, \n",
    "                               ignore_index=True)\n",
    "results_df"
   ]
  },
  {
   "cell_type": "markdown",
   "metadata": {},
   "source": [
    "# SVM"
   ]
  },
  {
   "cell_type": "code",
   "execution_count": 22,
   "metadata": {},
   "outputs": [],
   "source": [
    "# from sklearn.svm import SVC\n",
    "\n",
    "# model = SVC(kernel='linear')\n",
    "# model.fit(X_train, y_train)\n",
    "\n",
    "# svm_train_score = model.score(X_train, y_train)\n",
    "# svm_test_score = model.score(X_test, y_test)"
   ]
  },
  {
   "cell_type": "code",
   "execution_count": 23,
   "metadata": {
    "collapsed": true
   },
   "outputs": [],
   "source": [
    "# results_df = results_df.append({\"model\":\"svm\",\n",
    "#                                 \"train_score\":svm_train_score,\n",
    "#                                 \"test_score\":svm_test_score}, \n",
    "#                                ignore_index=True)\n",
    "# results_df"
   ]
  },
  {
   "cell_type": "markdown",
   "metadata": {},
   "source": [
    "# Neural Networks"
   ]
  },
  {
   "cell_type": "code",
   "execution_count": 24,
   "metadata": {
    "collapsed": true
   },
   "outputs": [],
   "source": [
    "X_train, X_test, y_cat_train, y_cat_test = train_test_split(X, y_categorical, random_state=42)"
   ]
  },
  {
   "cell_type": "code",
   "execution_count": 25,
   "metadata": {},
   "outputs": [
    {
     "name": "stdout",
     "output_type": "stream",
     "text": [
      "Epoch 1/10\n",
      " - 7s - loss: 0.4061 - acc: 0.3909\n",
      "Epoch 2/10\n",
      " - 7s - loss: 0.4060 - acc: 0.3910\n",
      "Epoch 3/10\n",
      " - 7s - loss: 0.4060 - acc: 0.3910\n",
      "Epoch 4/10\n",
      " - 7s - loss: 0.4060 - acc: 0.3910\n",
      "Epoch 5/10\n",
      " - 7s - loss: 0.4060 - acc: 0.3910\n",
      "Epoch 6/10\n",
      " - 7s - loss: 0.4060 - acc: 0.3910\n",
      "Epoch 7/10\n",
      " - 7s - loss: 0.4060 - acc: 0.3910\n",
      "Epoch 8/10\n",
      " - 7s - loss: 0.4060 - acc: 0.3910\n",
      "Epoch 9/10\n",
      " - 7s - loss: 0.4060 - acc: 0.3910\n",
      "Epoch 10/10\n",
      " - 7s - loss: 0.4060 - acc: 0.3910\n"
     ]
    },
    {
     "data": {
      "text/plain": [
       "<keras.callbacks.History at 0x1b689746438>"
      ]
     },
     "execution_count": 25,
     "metadata": {},
     "output_type": "execute_result"
    }
   ],
   "source": [
    "from keras.models import Sequential\n",
    "from keras.layers import Dense\n",
    "\n",
    "model = Sequential()\n",
    "model.add(Dense(units=51, activation='relu', input_dim=17))\n",
    "model.add(Dense(units=153, activation='relu'))\n",
    "model.add(Dense(units=300, activation='relu'))\n",
    "model.add(Dense(units=3,activation=\"softmax\"))\n",
    "\n",
    "model.compile(optimizer='adam',\n",
    "             loss='mean_squared_error',\n",
    "             metrics=['accuracy'])\n",
    "\n",
    "model.fit(\n",
    "    X_train,\n",
    "    y_cat_train,\n",
    "    epochs=10,\n",
    "    shuffle=True,\n",
    "    verbose=2\n",
    ")"
   ]
  },
  {
   "cell_type": "code",
   "execution_count": 26,
   "metadata": {},
   "outputs": [
    {
     "name": "stdout",
     "output_type": "stream",
     "text": [
      "Loss: 0.40496084938346355, Accuracy: 0.3925587328610441\n"
     ]
    }
   ],
   "source": [
    "model_loss, model_accuracy = model.evaluate(X_test, y_cat_test, verbose=2)\n",
    "print(f\"Loss: {model_loss}, Accuracy: {model_accuracy}\")"
   ]
  },
  {
   "cell_type": "markdown",
   "metadata": {},
   "source": [
    "# Dictionary of Encoded Categorical Features to Feature Names"
   ]
  },
  {
   "cell_type": "code",
   "execution_count": 27,
   "metadata": {},
   "outputs": [],
   "source": [
    "country_dic = {}\n",
    "currency_dic = {}\n",
    "cat_dic = {}\n",
    "parent_cat_dic = {}\n",
    "month_dic = {}\n",
    "\n",
    "country_list = []\n",
    "country_enc_list = []\n",
    "currency_list = []\n",
    "currency_enc_list = []\n",
    "cat_list = []\n",
    "cat_enc_list = []\n",
    "parent_cat_list = []\n",
    "parent_cat_enc_list = []\n",
    "month_list = []\n",
    "month_enc_list = []\n",
    "\n",
    "for i in range (1,len(country_encoded)):\n",
    "    if kickstarter_df['country'][i] not in country_list:\n",
    "        country_list.append(kickstarter_df['country'][i])\n",
    "        country_enc_list.append(country_encoded[i])\n",
    "    if kickstarter_df['currency'][i] not in currency_list:\n",
    "        currency_list.append(kickstarter_df['currency'][i])\n",
    "        currency_enc_list.append(currency_encoded[i])\n",
    "    if kickstarter_df['category_name'][i] not in cat_list:\n",
    "        cat_list.append(kickstarter_df['category_name'][i])\n",
    "        cat_enc_list.append(category_encoded[i])\n",
    "    if kickstarter_df['parent_category'][i] not in parent_cat_list:\n",
    "        parent_cat_list.append(kickstarter_df['parent_category'][i])\n",
    "        parent_cat_enc_list.append(parent_category_encoded[i])\n",
    "    if kickstarter_df['month_started'][i] not in month_list:\n",
    "        month_list.append(kickstarter_df['month_started'][i])\n",
    "        month_enc_list.append(month_encoded[i])"
   ]
  },
  {
   "cell_type": "code",
   "execution_count": 28,
   "metadata": {},
   "outputs": [
    {
     "name": "stdout",
     "output_type": "stream",
     "text": [
      "['US', 'DE', 'GB', 'NL', 'FR', 'IT', 'MX', 'SE', 'DK', 'AU', 'CA', 'IE', 'NZ', 'AT', 'BE', 'ES', 'SG', 'HK', 'CH', 'NO', 'JP', 'LU']\n",
      "[21, 21, 16, 21, 21, 21, 21, 21, 1, 21, 21, 11, 21, 21, 21, 21, 2, 21, 21, 21, 15, 20]\n",
      "['USD', 'EUR', 'GBP', 'MXN', 'SEK', 'DKK', 'AUD', 'CAD', 'NZD', 'SGD', 'HKD', 'CHF', 'NOK', 'JPY']\n",
      "[13, 13, 4, 13, 13, 0, 13, 13, 13, 4, 13, 13, 13, 8]\n",
      "['Mixed Media', 'Art', 'Painting', 'Public Art', 'Sculpture', 'Digital Art', 'Illustration', 'Conceptual Art', 'Performance Art', 'Ceramics', 'Installations', 'Video Art', 'Textiles', 'Comics', 'Comic Books', 'Webcomics', 'Graphic Novels', 'Anthologies', 'Events', 'Crafts', 'Woodworking', 'Crochet', 'DIY', 'Knitting', 'Weaving', 'Pottery', 'Stationery', 'Embroidery', 'Printing', 'Glass', 'Quilts', 'Candles', 'Taxidermy', 'Performances', 'Residencies', 'Product Design', 'Design', 'Graphic Design', 'Typography', 'Dance', 'Spaces', 'Workshops', 'Civic Design', 'Architecture', 'Accessories', 'Interactive Design', 'Apparel', 'Documentary', 'Shorts', 'Film & Video', 'Animation', 'Narrative Film', 'Webseries', 'Movie Theaters', 'Footwear', 'Jewelry', 'Pet Fashion', 'Childrenswear', 'Couture', 'Ready-to-wear', 'Action', 'Comedy', 'Drama', 'Festivals', 'Experimental', 'Family', 'Horror', 'Fantasy', 'Music Videos', 'Romance', 'Science Fiction', 'Television', 'Food', 'Thrillers', 'Restaurants', 'Community Gardens', 'Bacon', 'Cookbooks', 'Drinks', 'Farms', 'Small Batch', \"Farmer's Markets\", 'Vegan', 'Food Trucks', 'Tabletop Games', 'Games', 'Video Games', 'Puzzles', 'Gaming Hardware', 'Mobile Games', 'Live Games', 'Playing Cards', 'Print', 'Journalism', 'Audio', 'Web', 'Video', 'Photo', 'Classical Music', 'Blues', 'Chiptune', 'Electronic Music', 'Country & Folk', 'Music', 'Jazz', 'Pop', 'Indie Rock', 'World Music', 'Rock', 'Hip-Hop', 'R&B', 'Faith', 'Metal', 'Kids', 'Latin', 'Punk', 'Photography', 'Fine Art', 'People', 'Animals', 'Photobooks', 'Places', 'Nature', 'Academic', 'Nonfiction', 'Fiction', 'Periodicals', 'Art Books', \"Children's Books\", 'Publishing', 'Poetry', 'Radio & Podcasts', 'Literary Journals', 'Young Adult', 'Letterpress', 'Zines', 'Literary Spaces', 'Translations', 'Calendars', 'Wearables', 'Hardware', 'Apps', 'DIY Electronics', 'Technology', 'Gadgets', 'Makerspaces', 'Sound', 'Robots', '3D Printing', 'Camera Equipment', 'Flight', 'Software', 'Space Exploration', 'Fabrication Tools', 'Theater', 'Musical', 'Plays', 'Immersive']\n",
      "[10, 95, 113, 95, 10, 95, 113, 28, 10, 97, 28, 10, 127, 26, 26, 26, 26, 26, 26, 153, 32, 153, 32, 32, 32, 134, 33, 32, 34, 33, 32, 33, 117, 98, 121, 112, 37, 112, 36, 121, 98, 36, 112, 112, 2, 73, 7, 128, 39, 5, 128, 39, 39, 128, 59, 75, 100, 20, 31, 120, 3, 24, 40, 52, 45, 48, 68, 49, 90, 125, 126, 138, 57, 141, 57, 57, 57, 57, 57, 57, 57, 57, 57, 57, 135, 61, 135, 135, 135, 61, 83, 105, 76, 12, 150, 76, 150, 110, 23, 14, 21, 42, 30, 89, 89, 89, 89, 71, 30, 89, 89, 47, 85, 77, 79, 115, 103, 103, 4, 103, 55, 102, 102, 1, 53, 94, 53, 19, 94, 94, 11, 114, 19, 107, 107, 19, 11, 19, 15, 66, 8, 35, 137, 8, 84, 137, 8, 60, 0, 56, 35, 148, 66, 66, 140, 140, 140, 140]\n",
      "['Art', 'none', 'Comics', 'Crafts', 'Dance', 'Design', 'Film & Video', 'Food', 'Games', 'Journalism', 'Music', 'Photography', 'Publishing', 'Technology', 'Theater']\n",
      "[14, 0, 14, 14, 3, 4, 5, 14, 7, 14, 9, 14, 11, 12, 14]\n",
      "['March', 'February', 'January', 'December', 'November', 'October', 'September', 'August', 'July', 'June', 'May', 'April']\n",
      "[7, 3, 4, 2, 9, 10, 10, 1, 5, 6, 8, 0]\n"
     ]
    }
   ],
   "source": [
    "print(country_list)\n",
    "print(country_enc_list)\n",
    "print(currency_list)\n",
    "print(currency_enc_list)\n",
    "print(cat_list)\n",
    "print(cat_enc_list)\n",
    "print(parent_cat_list)\n",
    "print(parent_cat_enc_list)\n",
    "print(month_list)\n",
    "print(month_enc_list)"
   ]
  },
  {
   "cell_type": "code",
   "execution_count": 29,
   "metadata": {
    "collapsed": true
   },
   "outputs": [],
   "source": [
    "for i in range(0, len(country_list)):\n",
    "    country_dic[country_list[i]] = country_enc_list[i]\n",
    "for i in range(0, len(currency_list)):\n",
    "    currency_dic[currency_list[i]] = currency_enc_list[i]\n",
    "for i in range(0, len(cat_list)):\n",
    "    cat_dic[cat_list[i]] = cat_enc_list[i]\n",
    "for i in range(0, len(parent_cat_list)):\n",
    "    parent_cat_dic[parent_cat_list[i]] = parent_cat_enc_list[i]\n",
    "for i in range(0, len(month_list)):\n",
    "    month_dic[month_list[i]] = month_enc_list[i]"
   ]
  },
  {
   "cell_type": "code",
   "execution_count": 31,
   "metadata": {},
   "outputs": [
    {
     "name": "stdout",
     "output_type": "stream",
     "text": [
      "{'US': 21, 'DE': 21, 'GB': 16, 'NL': 21, 'FR': 21, 'IT': 21, 'MX': 21, 'SE': 21, 'DK': 1, 'AU': 21, 'CA': 21, 'IE': 11, 'NZ': 21, 'AT': 21, 'BE': 21, 'ES': 21, 'SG': 2, 'HK': 21, 'CH': 21, 'NO': 21, 'JP': 15, 'LU': 20}\n",
      "{'USD': 13, 'EUR': 13, 'GBP': 4, 'MXN': 13, 'SEK': 13, 'DKK': 0, 'AUD': 13, 'CAD': 13, 'NZD': 13, 'SGD': 4, 'HKD': 13, 'CHF': 13, 'NOK': 13, 'JPY': 8}\n",
      "{'Mixed Media': 10, 'Art': 95, 'Painting': 113, 'Public Art': 95, 'Sculpture': 10, 'Digital Art': 95, 'Illustration': 113, 'Conceptual Art': 28, 'Performance Art': 10, 'Ceramics': 97, 'Installations': 28, 'Video Art': 10, 'Textiles': 127, 'Comics': 26, 'Comic Books': 26, 'Webcomics': 26, 'Graphic Novels': 26, 'Anthologies': 26, 'Events': 26, 'Crafts': 153, 'Woodworking': 32, 'Crochet': 153, 'DIY': 32, 'Knitting': 32, 'Weaving': 32, 'Pottery': 134, 'Stationery': 33, 'Embroidery': 32, 'Printing': 34, 'Glass': 33, 'Quilts': 32, 'Candles': 33, 'Taxidermy': 117, 'Performances': 98, 'Residencies': 121, 'Product Design': 112, 'Design': 37, 'Graphic Design': 112, 'Typography': 36, 'Dance': 121, 'Spaces': 98, 'Workshops': 36, 'Civic Design': 112, 'Architecture': 112, 'Accessories': 2, 'Interactive Design': 73, 'Apparel': 7, 'Documentary': 128, 'Shorts': 39, 'Film & Video': 5, 'Animation': 128, 'Narrative Film': 39, 'Webseries': 39, 'Movie Theaters': 128, 'Footwear': 59, 'Jewelry': 75, 'Pet Fashion': 100, 'Childrenswear': 20, 'Couture': 31, 'Ready-to-wear': 120, 'Action': 3, 'Comedy': 24, 'Drama': 40, 'Festivals': 52, 'Experimental': 45, 'Family': 48, 'Horror': 68, 'Fantasy': 49, 'Music Videos': 90, 'Romance': 125, 'Science Fiction': 126, 'Television': 138, 'Food': 57, 'Thrillers': 141, 'Restaurants': 57, 'Community Gardens': 57, 'Bacon': 57, 'Cookbooks': 57, 'Drinks': 57, 'Farms': 57, 'Small Batch': 57, \"Farmer's Markets\": 57, 'Vegan': 57, 'Food Trucks': 57, 'Tabletop Games': 135, 'Games': 61, 'Video Games': 135, 'Puzzles': 135, 'Gaming Hardware': 135, 'Mobile Games': 61, 'Live Games': 83, 'Playing Cards': 105, 'Print': 76, 'Journalism': 12, 'Audio': 150, 'Web': 76, 'Video': 150, 'Photo': 110, 'Classical Music': 23, 'Blues': 14, 'Chiptune': 21, 'Electronic Music': 42, 'Country & Folk': 30, 'Music': 89, 'Jazz': 89, 'Pop': 89, 'Indie Rock': 89, 'World Music': 71, 'Rock': 30, 'Hip-Hop': 89, 'R&B': 89, 'Faith': 47, 'Metal': 85, 'Kids': 77, 'Latin': 79, 'Punk': 115, 'Photography': 103, 'Fine Art': 103, 'People': 4, 'Animals': 103, 'Photobooks': 55, 'Places': 102, 'Nature': 102, 'Academic': 1, 'Nonfiction': 53, 'Fiction': 94, 'Periodicals': 53, 'Art Books': 19, \"Children's Books\": 94, 'Publishing': 94, 'Poetry': 11, 'Radio & Podcasts': 114, 'Literary Journals': 19, 'Young Adult': 107, 'Letterpress': 107, 'Zines': 19, 'Literary Spaces': 11, 'Translations': 19, 'Calendars': 15, 'Wearables': 66, 'Hardware': 8, 'Apps': 35, 'DIY Electronics': 137, 'Technology': 8, 'Gadgets': 84, 'Makerspaces': 137, 'Sound': 8, 'Robots': 60, '3D Printing': 0, 'Camera Equipment': 56, 'Flight': 35, 'Software': 148, 'Space Exploration': 66, 'Fabrication Tools': 66, 'Theater': 140, 'Musical': 140, 'Plays': 140, 'Immersive': 140}\n",
      "{'Art': 14, 'none': 0, 'Comics': 14, 'Crafts': 14, 'Dance': 3, 'Design': 4, 'Film & Video': 5, 'Food': 14, 'Games': 7, 'Journalism': 14, 'Music': 9, 'Photography': 14, 'Publishing': 11, 'Technology': 12, 'Theater': 14}\n",
      "{'March': 7, 'February': 3, 'January': 4, 'December': 2, 'November': 9, 'October': 10, 'September': 10, 'August': 1, 'July': 5, 'June': 6, 'May': 8, 'April': 0}\n"
     ]
    }
   ],
   "source": [
    "print(country_dic)\n",
    "print(currency_dic)\n",
    "print(cat_dic)\n",
    "print(parent_cat_dic)\n",
    "print(month_dic)"
   ]
  },
  {
   "cell_type": "code",
   "execution_count": null,
   "metadata": {
    "collapsed": true
   },
   "outputs": [],
   "source": []
  }
 ],
 "metadata": {
  "kernelspec": {
   "display_name": "Python 3",
   "language": "python",
   "name": "python3"
  },
  "language_info": {
   "codemirror_mode": {
    "name": "ipython",
    "version": 3
   },
   "file_extension": ".py",
   "mimetype": "text/x-python",
   "name": "python",
   "nbconvert_exporter": "python",
   "pygments_lexer": "ipython3",
   "version": "3.6.2"
  }
 },
 "nbformat": 4,
 "nbformat_minor": 2
}

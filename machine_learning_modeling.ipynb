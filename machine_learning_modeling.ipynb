{
 "cells": [
  {
   "cell_type": "markdown",
   "metadata": {},
   "source": [
    "# Load Data"
   ]
  },
  {
   "cell_type": "code",
   "execution_count": 1,
   "metadata": {
    "collapsed": true
   },
   "outputs": [],
   "source": [
    "# import dependencies\n",
    "import pandas as pd\n",
    "import numpy as np\n",
    "import sqlalchemy\n",
    "from sqlalchemy.ext.automap import automap_base\n",
    "from sqlalchemy.orm import Session\n",
    "from sqlalchemy import create_engine, inspect, func"
   ]
  },
  {
   "cell_type": "code",
   "execution_count": 2,
   "metadata": {
    "collapsed": true
   },
   "outputs": [],
   "source": [
    "# reflect database table into classes\n",
    "engine = create_engine(\"sqlite:///db/kickstarter_campaigns.sqlite\", echo=False)\n",
    "\n",
    "Base = automap_base()\n",
    "Base.prepare(engine, reflect=True)\n",
    "Kickstarter = Base.classes.kickstarter_campaigns\n",
    "\n",
    "session = Session(engine)"
   ]
  },
  {
   "cell_type": "code",
   "execution_count": 3,
   "metadata": {},
   "outputs": [
    {
     "name": "stdout",
     "output_type": "stream",
     "text": [
      "188137 rows of data loaded\n"
     ]
    },
    {
     "data": {
      "text/html": [
       "<div>\n",
       "<style>\n",
       "    .dataframe thead tr:only-child th {\n",
       "        text-align: right;\n",
       "    }\n",
       "\n",
       "    .dataframe thead th {\n",
       "        text-align: left;\n",
       "    }\n",
       "\n",
       "    .dataframe tbody tr th {\n",
       "        vertical-align: top;\n",
       "    }\n",
       "</style>\n",
       "<table border=\"1\" class=\"dataframe\">\n",
       "  <thead>\n",
       "    <tr style=\"text-align: right;\">\n",
       "      <th></th>\n",
       "      <th>backers_count</th>\n",
       "      <th>blurb</th>\n",
       "      <th>country</th>\n",
       "      <th>currency</th>\n",
       "      <th>deadline</th>\n",
       "      <th>fx_rate</th>\n",
       "      <th>goal</th>\n",
       "      <th>id</th>\n",
       "      <th>name</th>\n",
       "      <th>pledged</th>\n",
       "      <th>...</th>\n",
       "      <th>blurb_sentiment_positive</th>\n",
       "      <th>blurb_sentiment_negative</th>\n",
       "      <th>blurb_sentiment_neutral</th>\n",
       "      <th>title_length</th>\n",
       "      <th>title_sentiment_compound</th>\n",
       "      <th>title_sentiment_positive</th>\n",
       "      <th>title_sentiment_negative</th>\n",
       "      <th>title_sentiment_neutral</th>\n",
       "      <th>usd_goal</th>\n",
       "      <th>pct_complete</th>\n",
       "    </tr>\n",
       "  </thead>\n",
       "  <tbody>\n",
       "    <tr>\n",
       "      <th>0</th>\n",
       "      <td>80</td>\n",
       "      <td>I will be an artist-in-residence at Elsewhere ...</td>\n",
       "      <td>US</td>\n",
       "      <td>USD</td>\n",
       "      <td>2012-04-19 15:16:00</td>\n",
       "      <td>1.0</td>\n",
       "      <td>2800.0</td>\n",
       "      <td>1562040083</td>\n",
       "      <td>Elsewhere Studios artist-in-residency program!</td>\n",
       "      <td>3596.0</td>\n",
       "      <td>...</td>\n",
       "      <td>0.000</td>\n",
       "      <td>0.0</td>\n",
       "      <td>1.000</td>\n",
       "      <td>46</td>\n",
       "      <td>0.0</td>\n",
       "      <td>0.0</td>\n",
       "      <td>0.0</td>\n",
       "      <td>1.0</td>\n",
       "      <td>2800.0</td>\n",
       "      <td>1.284286</td>\n",
       "    </tr>\n",
       "    <tr>\n",
       "      <th>1</th>\n",
       "      <td>47</td>\n",
       "      <td>We are looking to bring a Visiting Sculptor fr...</td>\n",
       "      <td>US</td>\n",
       "      <td>USD</td>\n",
       "      <td>2012-04-20 17:06:38</td>\n",
       "      <td>1.0</td>\n",
       "      <td>3900.0</td>\n",
       "      <td>1437561817</td>\n",
       "      <td>Martin Luther King Jr. Sculpture on Campus!</td>\n",
       "      <td>4117.0</td>\n",
       "      <td>...</td>\n",
       "      <td>0.084</td>\n",
       "      <td>0.0</td>\n",
       "      <td>0.916</td>\n",
       "      <td>43</td>\n",
       "      <td>0.0</td>\n",
       "      <td>0.0</td>\n",
       "      <td>0.0</td>\n",
       "      <td>1.0</td>\n",
       "      <td>3900.0</td>\n",
       "      <td>1.055641</td>\n",
       "    </tr>\n",
       "    <tr>\n",
       "      <th>2</th>\n",
       "      <td>80</td>\n",
       "      <td>Surrealistic oil paintings capturing the metam...</td>\n",
       "      <td>US</td>\n",
       "      <td>USD</td>\n",
       "      <td>2012-04-16 22:59:00</td>\n",
       "      <td>1.0</td>\n",
       "      <td>750.0</td>\n",
       "      <td>574125813</td>\n",
       "      <td>EMERGENCE: Surreal Oil Paintings by J.J. Long</td>\n",
       "      <td>3125.0</td>\n",
       "      <td>...</td>\n",
       "      <td>0.000</td>\n",
       "      <td>0.0</td>\n",
       "      <td>1.000</td>\n",
       "      <td>45</td>\n",
       "      <td>0.0</td>\n",
       "      <td>0.0</td>\n",
       "      <td>0.0</td>\n",
       "      <td>1.0</td>\n",
       "      <td>750.0</td>\n",
       "      <td>4.166667</td>\n",
       "    </tr>\n",
       "    <tr>\n",
       "      <th>3</th>\n",
       "      <td>82</td>\n",
       "      <td>1000 Artists is a public art-making installati...</td>\n",
       "      <td>US</td>\n",
       "      <td>USD</td>\n",
       "      <td>2012-05-07 20:22:25</td>\n",
       "      <td>1.0</td>\n",
       "      <td>4500.0</td>\n",
       "      <td>858990141</td>\n",
       "      <td>1000 Artists: Presidential Inauguration 2013</td>\n",
       "      <td>4586.0</td>\n",
       "      <td>...</td>\n",
       "      <td>0.000</td>\n",
       "      <td>0.0</td>\n",
       "      <td>1.000</td>\n",
       "      <td>44</td>\n",
       "      <td>0.0</td>\n",
       "      <td>0.0</td>\n",
       "      <td>0.0</td>\n",
       "      <td>1.0</td>\n",
       "      <td>4500.0</td>\n",
       "      <td>1.019111</td>\n",
       "    </tr>\n",
       "    <tr>\n",
       "      <th>4</th>\n",
       "      <td>31</td>\n",
       "      <td>P.M.A.F.T.W. my upcoming solo show June 2012 a...</td>\n",
       "      <td>US</td>\n",
       "      <td>USD</td>\n",
       "      <td>2012-04-02 21:57:23</td>\n",
       "      <td>1.0</td>\n",
       "      <td>1000.0</td>\n",
       "      <td>566704999</td>\n",
       "      <td>P.M.A.F.T.W.</td>\n",
       "      <td>1036.0</td>\n",
       "      <td>...</td>\n",
       "      <td>0.000</td>\n",
       "      <td>0.0</td>\n",
       "      <td>1.000</td>\n",
       "      <td>12</td>\n",
       "      <td>0.0</td>\n",
       "      <td>0.0</td>\n",
       "      <td>0.0</td>\n",
       "      <td>1.0</td>\n",
       "      <td>1000.0</td>\n",
       "      <td>1.036000</td>\n",
       "    </tr>\n",
       "  </tbody>\n",
       "</table>\n",
       "<p>5 rows × 34 columns</p>\n",
       "</div>"
      ],
      "text/plain": [
       "   backers_count                                              blurb country  \\\n",
       "0             80  I will be an artist-in-residence at Elsewhere ...      US   \n",
       "1             47  We are looking to bring a Visiting Sculptor fr...      US   \n",
       "2             80  Surrealistic oil paintings capturing the metam...      US   \n",
       "3             82  1000 Artists is a public art-making installati...      US   \n",
       "4             31  P.M.A.F.T.W. my upcoming solo show June 2012 a...      US   \n",
       "\n",
       "  currency             deadline  fx_rate    goal          id  \\\n",
       "0      USD  2012-04-19 15:16:00      1.0  2800.0  1562040083   \n",
       "1      USD  2012-04-20 17:06:38      1.0  3900.0  1437561817   \n",
       "2      USD  2012-04-16 22:59:00      1.0   750.0   574125813   \n",
       "3      USD  2012-05-07 20:22:25      1.0  4500.0   858990141   \n",
       "4      USD  2012-04-02 21:57:23      1.0  1000.0   566704999   \n",
       "\n",
       "                                             name  pledged     ...       \\\n",
       "0  Elsewhere Studios artist-in-residency program!   3596.0     ...        \n",
       "1     Martin Luther King Jr. Sculpture on Campus!   4117.0     ...        \n",
       "2   EMERGENCE: Surreal Oil Paintings by J.J. Long   3125.0     ...        \n",
       "3    1000 Artists: Presidential Inauguration 2013   4586.0     ...        \n",
       "4                                    P.M.A.F.T.W.   1036.0     ...        \n",
       "\n",
       "  blurb_sentiment_positive blurb_sentiment_negative  blurb_sentiment_neutral  \\\n",
       "0                    0.000                      0.0                    1.000   \n",
       "1                    0.084                      0.0                    0.916   \n",
       "2                    0.000                      0.0                    1.000   \n",
       "3                    0.000                      0.0                    1.000   \n",
       "4                    0.000                      0.0                    1.000   \n",
       "\n",
       "  title_length  title_sentiment_compound title_sentiment_positive  \\\n",
       "0           46                       0.0                      0.0   \n",
       "1           43                       0.0                      0.0   \n",
       "2           45                       0.0                      0.0   \n",
       "3           44                       0.0                      0.0   \n",
       "4           12                       0.0                      0.0   \n",
       "\n",
       "  title_sentiment_negative title_sentiment_neutral  usd_goal pct_complete  \n",
       "0                      0.0                     1.0    2800.0     1.284286  \n",
       "1                      0.0                     1.0    3900.0     1.055641  \n",
       "2                      0.0                     1.0     750.0     4.166667  \n",
       "3                      0.0                     1.0    4500.0     1.019111  \n",
       "4                      0.0                     1.0    1000.0     1.036000  \n",
       "\n",
       "[5 rows x 34 columns]"
      ]
     },
     "execution_count": 3,
     "metadata": {},
     "output_type": "execute_result"
    }
   ],
   "source": [
    "data = engine.execute('SELECT * FROM kickstarter_campaigns')\n",
    "kickstarter_df = pd.DataFrame()\n",
    "record_list = []\n",
    "for record in data:\n",
    "    record_list.append(record)\n",
    "    \n",
    "kickstarter_df = pd.DataFrame(record_list)\n",
    "kickstarter_df.columns = ['index','backers_count','blurb','country','currency','deadline','fx_rate','goal','id',\n",
    "                          'name','pledged','slug','state','category_id','category_name','parent_category_id',\n",
    "                          'creator_profile','creator_name','start_date','campaign_length','month_started','state_or_province',\n",
    "                          'parent_category','blurb_length','blurb_sentiment_compound','blurb_sentiment_positive',\n",
    "                          'blurb_sentiment_negative','blurb_sentiment_neutral','title_length','title_sentiment_compound',\n",
    "                          'title_sentiment_positive','title_sentiment_negative','title_sentiment_neutral','usd_goal',\n",
    "                          'pct_complete']\n",
    "\n",
    "kickstarter_df = kickstarter_df.drop(['index'], axis=1)\n",
    "kickstarter_df = kickstarter_df.reset_index()\n",
    "kickstarter_df = kickstarter_df.drop(['index'], axis=1)\n",
    "\n",
    "print(f'{len(kickstarter_df)} rows of data loaded')\n",
    "kickstarter_df.head()"
   ]
  },
  {
   "cell_type": "markdown",
   "metadata": {},
   "source": [
    "# Create ML Models"
   ]
  },
  {
   "cell_type": "code",
   "execution_count": 4,
   "metadata": {},
   "outputs": [
    {
     "name": "stderr",
     "output_type": "stream",
     "text": [
      "Using TensorFlow backend.\n"
     ]
    }
   ],
   "source": [
    "from sklearn.model_selection import train_test_split\n",
    "from sklearn.preprocessing import LabelEncoder, StandardScaler\n",
    "from keras.utils import to_categorical"
   ]
  },
  {
   "cell_type": "code",
   "execution_count": 35,
   "metadata": {},
   "outputs": [],
   "source": [
    "country_list = list(set(kickstarter_df['country']))\n",
    "country_dic = {}\n",
    "for i in range(0, len(country_list)):\n",
    "    country_dic[country_list[i]] = i\n",
    "    \n",
    "currency_list = list(set(kickstarter_df['currency']))\n",
    "currency_dic = {}\n",
    "for i in range(0, len(currency_list)):\n",
    "    currency_dic[currency_list[i]] = i\n",
    "    \n",
    "category_name_list = list(set(kickstarter_df['category_name']))\n",
    "category_name_dic = {}\n",
    "for i in range(0, len(category_name_list)):\n",
    "    category_name_dic[category_name_list[i]] = i\n",
    "    \n",
    "parent_category_list = list(set(kickstarter_df['parent_category']))\n",
    "parent_category_dic = {}\n",
    "for i in range(0, len(parent_category_list)):\n",
    "    parent_category_dic[parent_category_list[i]] = i\n",
    "    \n",
    "month_list = list(set(kickstarter_df['month_started']))\n",
    "month_dic = {}\n",
    "for i in range(0, len(month_list)):\n",
    "    month_dic[month_list[i]] = i\n",
    "\n",
    "country_encoded_list = []\n",
    "currency_encoded_list = []\n",
    "category_encoded_list = []\n",
    "parent_category_encoded_list = []\n",
    "month_encoded_list = []\n",
    "\n",
    "for i in range(0, len(kickstarter_df['country'])):\n",
    "    country_encoded = country_dic[kickstarter_df['country'][i]]\n",
    "    country_encoded_list.append(country_encoded)\n",
    "    category_encoded = category_name_dic[kickstarter_df['category_name'][i]]\n",
    "    category_encoded_list.append(category_encoded)\n",
    "    parent_category_encoded = parent_category_dic[kickstarter_df['parent_category'][i]]\n",
    "    parent_category_encoded_list.append(parent_category_encoded)\n",
    "    currency_encoded = currency_dic[kickstarter_df['currency'][i]]\n",
    "    currency_encoded_list.append(currency_encoded)\n",
    "    month_encoded = month_dic[kickstarter_df['month_started'][i]]\n",
    "    month_encoded_list.append(month_encoded)"
   ]
  },
  {
   "cell_type": "code",
   "execution_count": 6,
   "metadata": {},
   "outputs": [
    {
     "data": {
      "text/html": [
       "<div>\n",
       "<style>\n",
       "    .dataframe thead tr:only-child th {\n",
       "        text-align: right;\n",
       "    }\n",
       "\n",
       "    .dataframe thead th {\n",
       "        text-align: left;\n",
       "    }\n",
       "\n",
       "    .dataframe tbody tr th {\n",
       "        vertical-align: top;\n",
       "    }\n",
       "</style>\n",
       "<table border=\"1\" class=\"dataframe\">\n",
       "  <thead>\n",
       "    <tr style=\"text-align: right;\">\n",
       "      <th></th>\n",
       "      <th>backers_count</th>\n",
       "      <th>blurb</th>\n",
       "      <th>country</th>\n",
       "      <th>currency</th>\n",
       "      <th>deadline</th>\n",
       "      <th>fx_rate</th>\n",
       "      <th>goal</th>\n",
       "      <th>id</th>\n",
       "      <th>name</th>\n",
       "      <th>pledged</th>\n",
       "      <th>...</th>\n",
       "      <th>title_sentiment_positive</th>\n",
       "      <th>title_sentiment_negative</th>\n",
       "      <th>title_sentiment_neutral</th>\n",
       "      <th>usd_goal</th>\n",
       "      <th>pct_complete</th>\n",
       "      <th>country_encoded</th>\n",
       "      <th>currency_encoded</th>\n",
       "      <th>category_encoded</th>\n",
       "      <th>parent_category_encoded</th>\n",
       "      <th>month_encoded</th>\n",
       "    </tr>\n",
       "  </thead>\n",
       "  <tbody>\n",
       "    <tr>\n",
       "      <th>0</th>\n",
       "      <td>80</td>\n",
       "      <td>I will be an artist-in-residence at Elsewhere ...</td>\n",
       "      <td>US</td>\n",
       "      <td>USD</td>\n",
       "      <td>2012-04-19 15:16:00</td>\n",
       "      <td>1.0</td>\n",
       "      <td>2800.0</td>\n",
       "      <td>1562040083</td>\n",
       "      <td>Elsewhere Studios artist-in-residency program!</td>\n",
       "      <td>3596.0</td>\n",
       "      <td>...</td>\n",
       "      <td>0.0</td>\n",
       "      <td>0.0</td>\n",
       "      <td>1.0</td>\n",
       "      <td>2800.0</td>\n",
       "      <td>1.284286</td>\n",
       "      <td>4</td>\n",
       "      <td>0</td>\n",
       "      <td>3</td>\n",
       "      <td>7</td>\n",
       "      <td>9</td>\n",
       "    </tr>\n",
       "    <tr>\n",
       "      <th>1</th>\n",
       "      <td>47</td>\n",
       "      <td>We are looking to bring a Visiting Sculptor fr...</td>\n",
       "      <td>US</td>\n",
       "      <td>USD</td>\n",
       "      <td>2012-04-20 17:06:38</td>\n",
       "      <td>1.0</td>\n",
       "      <td>3900.0</td>\n",
       "      <td>1437561817</td>\n",
       "      <td>Martin Luther King Jr. Sculpture on Campus!</td>\n",
       "      <td>4117.0</td>\n",
       "      <td>...</td>\n",
       "      <td>0.0</td>\n",
       "      <td>0.0</td>\n",
       "      <td>1.0</td>\n",
       "      <td>3900.0</td>\n",
       "      <td>1.055641</td>\n",
       "      <td>4</td>\n",
       "      <td>0</td>\n",
       "      <td>127</td>\n",
       "      <td>13</td>\n",
       "      <td>9</td>\n",
       "    </tr>\n",
       "    <tr>\n",
       "      <th>2</th>\n",
       "      <td>80</td>\n",
       "      <td>Surrealistic oil paintings capturing the metam...</td>\n",
       "      <td>US</td>\n",
       "      <td>USD</td>\n",
       "      <td>2012-04-16 22:59:00</td>\n",
       "      <td>1.0</td>\n",
       "      <td>750.0</td>\n",
       "      <td>574125813</td>\n",
       "      <td>EMERGENCE: Surreal Oil Paintings by J.J. Long</td>\n",
       "      <td>3125.0</td>\n",
       "      <td>...</td>\n",
       "      <td>0.0</td>\n",
       "      <td>0.0</td>\n",
       "      <td>1.0</td>\n",
       "      <td>750.0</td>\n",
       "      <td>4.166667</td>\n",
       "      <td>4</td>\n",
       "      <td>0</td>\n",
       "      <td>82</td>\n",
       "      <td>7</td>\n",
       "      <td>9</td>\n",
       "    </tr>\n",
       "    <tr>\n",
       "      <th>3</th>\n",
       "      <td>82</td>\n",
       "      <td>1000 Artists is a public art-making installati...</td>\n",
       "      <td>US</td>\n",
       "      <td>USD</td>\n",
       "      <td>2012-05-07 20:22:25</td>\n",
       "      <td>1.0</td>\n",
       "      <td>4500.0</td>\n",
       "      <td>858990141</td>\n",
       "      <td>1000 Artists: Presidential Inauguration 2013</td>\n",
       "      <td>4586.0</td>\n",
       "      <td>...</td>\n",
       "      <td>0.0</td>\n",
       "      <td>0.0</td>\n",
       "      <td>1.0</td>\n",
       "      <td>4500.0</td>\n",
       "      <td>1.019111</td>\n",
       "      <td>4</td>\n",
       "      <td>0</td>\n",
       "      <td>107</td>\n",
       "      <td>7</td>\n",
       "      <td>9</td>\n",
       "    </tr>\n",
       "    <tr>\n",
       "      <th>4</th>\n",
       "      <td>31</td>\n",
       "      <td>P.M.A.F.T.W. my upcoming solo show June 2012 a...</td>\n",
       "      <td>US</td>\n",
       "      <td>USD</td>\n",
       "      <td>2012-04-02 21:57:23</td>\n",
       "      <td>1.0</td>\n",
       "      <td>1000.0</td>\n",
       "      <td>566704999</td>\n",
       "      <td>P.M.A.F.T.W.</td>\n",
       "      <td>1036.0</td>\n",
       "      <td>...</td>\n",
       "      <td>0.0</td>\n",
       "      <td>0.0</td>\n",
       "      <td>1.0</td>\n",
       "      <td>1000.0</td>\n",
       "      <td>1.036000</td>\n",
       "      <td>4</td>\n",
       "      <td>0</td>\n",
       "      <td>82</td>\n",
       "      <td>7</td>\n",
       "      <td>9</td>\n",
       "    </tr>\n",
       "  </tbody>\n",
       "</table>\n",
       "<p>5 rows × 39 columns</p>\n",
       "</div>"
      ],
      "text/plain": [
       "   backers_count                                              blurb country  \\\n",
       "0             80  I will be an artist-in-residence at Elsewhere ...      US   \n",
       "1             47  We are looking to bring a Visiting Sculptor fr...      US   \n",
       "2             80  Surrealistic oil paintings capturing the metam...      US   \n",
       "3             82  1000 Artists is a public art-making installati...      US   \n",
       "4             31  P.M.A.F.T.W. my upcoming solo show June 2012 a...      US   \n",
       "\n",
       "  currency             deadline  fx_rate    goal          id  \\\n",
       "0      USD  2012-04-19 15:16:00      1.0  2800.0  1562040083   \n",
       "1      USD  2012-04-20 17:06:38      1.0  3900.0  1437561817   \n",
       "2      USD  2012-04-16 22:59:00      1.0   750.0   574125813   \n",
       "3      USD  2012-05-07 20:22:25      1.0  4500.0   858990141   \n",
       "4      USD  2012-04-02 21:57:23      1.0  1000.0   566704999   \n",
       "\n",
       "                                             name  pledged      ...       \\\n",
       "0  Elsewhere Studios artist-in-residency program!   3596.0      ...        \n",
       "1     Martin Luther King Jr. Sculpture on Campus!   4117.0      ...        \n",
       "2   EMERGENCE: Surreal Oil Paintings by J.J. Long   3125.0      ...        \n",
       "3    1000 Artists: Presidential Inauguration 2013   4586.0      ...        \n",
       "4                                    P.M.A.F.T.W.   1036.0      ...        \n",
       "\n",
       "  title_sentiment_positive title_sentiment_negative  title_sentiment_neutral  \\\n",
       "0                      0.0                      0.0                      1.0   \n",
       "1                      0.0                      0.0                      1.0   \n",
       "2                      0.0                      0.0                      1.0   \n",
       "3                      0.0                      0.0                      1.0   \n",
       "4                      0.0                      0.0                      1.0   \n",
       "\n",
       "  usd_goal  pct_complete country_encoded currency_encoded category_encoded  \\\n",
       "0   2800.0      1.284286               4                0                3   \n",
       "1   3900.0      1.055641               4                0              127   \n",
       "2    750.0      4.166667               4                0               82   \n",
       "3   4500.0      1.019111               4                0              107   \n",
       "4   1000.0      1.036000               4                0               82   \n",
       "\n",
       "   parent_category_encoded month_encoded  \n",
       "0                        7             9  \n",
       "1                       13             9  \n",
       "2                        7             9  \n",
       "3                        7             9  \n",
       "4                        7             9  \n",
       "\n",
       "[5 rows x 39 columns]"
      ]
     },
     "execution_count": 6,
     "metadata": {},
     "output_type": "execute_result"
    }
   ],
   "source": [
    "kickstarter_df['country_encoded'] = country_encoded_list\n",
    "kickstarter_df['currency_encoded'] = currency_encoded_list\n",
    "kickstarter_df['category_encoded'] = category_encoded_list\n",
    "kickstarter_df['parent_category_encoded'] = parent_category_encoded_list\n",
    "kickstarter_df['month_encoded'] = month_encoded_list\n",
    "kickstarter_df.head()"
   ]
  },
  {
   "cell_type": "code",
   "execution_count": 7,
   "metadata": {
    "collapsed": true
   },
   "outputs": [],
   "source": [
    "X = kickstarter_df.drop(['blurb','country','currency','deadline','fx_rate','id','name','slug','state',\n",
    "                         'category_id','category_name','parent_category_id','creator_profile',\n",
    "                         'creator_name', 'start_date', 'month_started','state_or_province','parent_category',\n",
    "                         'backers_count','pledged', 'pct_complete', 'goal'], axis=1)\n",
    "              \n",
    "# X_categorical_data = [kickstarter_df['country'], kickstarter_df['currency'],kickstarter_df['category_name'],\n",
    "#                  kickstarter_df['parent_category'], kickstarter_df['month_started']]\n",
    "              \n",
    "y = kickstarter_df['state']"
   ]
  },
  {
   "cell_type": "code",
   "execution_count": 8,
   "metadata": {
    "collapsed": true
   },
   "outputs": [],
   "source": [
    "# FOR SOME REASON THERE WAS A PROBLEM WITH ENCODING THE STATE --- I HAVE REMOVED IT FOR NOW\n",
    "\n",
    "# country_label_encoder = LabelEncoder()\n",
    "# currency_label_encoder = LabelEncoder()\n",
    "# category_label_encoder = LabelEncoder()\n",
    "# parent_category_label_encoder = LabelEncoder()\n",
    "# month_label_encoder = LabelEncoder()\n",
    "\n",
    "# country_label_encoder.fit(kickstarter_df['country'])\n",
    "# currency_label_encoder.fit(kickstarter_df['currency'])\n",
    "# category_label_encoder.fit(kickstarter_df['category_name'])\n",
    "# parent_category_label_encoder.fit(kickstarter_df['parent_category'])\n",
    "# month_label_encoder.fit(kickstarter_df['month_started'])\n",
    "\n",
    "# country_encoded = country_label_encoder.transform(kickstarter_df['country'])\n",
    "# currency_encoded = currency_label_encoder.transform(kickstarter_df['currency'])\n",
    "# category_encoded = category_label_encoder.transform(kickstarter_df['category_name'])\n",
    "# parent_category_encoded = parent_category_label_encoder.transform(kickstarter_df['parent_category'])\n",
    "# month_encoded = month_label_encoder.transform(kickstarter_df['month_started'])\n",
    "\n",
    "# country_categorical = to_categorical(country_encoded)\n",
    "# currency_categorical = to_categorical(currency_encoded)\n",
    "# category_categorical = to_categorical(category_encoded)\n",
    "# parent_category_categorical = to_categorical(parent_category_encoded)"
   ]
  },
  {
   "cell_type": "code",
   "execution_count": 9,
   "metadata": {
    "scrolled": false
   },
   "outputs": [
    {
     "data": {
      "text/html": [
       "<div>\n",
       "<style>\n",
       "    .dataframe thead tr:only-child th {\n",
       "        text-align: right;\n",
       "    }\n",
       "\n",
       "    .dataframe thead th {\n",
       "        text-align: left;\n",
       "    }\n",
       "\n",
       "    .dataframe tbody tr th {\n",
       "        vertical-align: top;\n",
       "    }\n",
       "</style>\n",
       "<table border=\"1\" class=\"dataframe\">\n",
       "  <thead>\n",
       "    <tr style=\"text-align: right;\">\n",
       "      <th></th>\n",
       "      <th>campaign_length</th>\n",
       "      <th>blurb_length</th>\n",
       "      <th>blurb_sentiment_compound</th>\n",
       "      <th>blurb_sentiment_positive</th>\n",
       "      <th>blurb_sentiment_negative</th>\n",
       "      <th>blurb_sentiment_neutral</th>\n",
       "      <th>title_length</th>\n",
       "      <th>title_sentiment_compound</th>\n",
       "      <th>title_sentiment_positive</th>\n",
       "      <th>title_sentiment_negative</th>\n",
       "      <th>title_sentiment_neutral</th>\n",
       "      <th>usd_goal</th>\n",
       "      <th>country_encoded</th>\n",
       "      <th>currency_encoded</th>\n",
       "      <th>category_encoded</th>\n",
       "      <th>parent_category_encoded</th>\n",
       "      <th>month_encoded</th>\n",
       "    </tr>\n",
       "  </thead>\n",
       "  <tbody>\n",
       "    <tr>\n",
       "      <th>0</th>\n",
       "      <td>21.96</td>\n",
       "      <td>118</td>\n",
       "      <td>0.0000</td>\n",
       "      <td>0.000</td>\n",
       "      <td>0.0</td>\n",
       "      <td>1.000</td>\n",
       "      <td>46</td>\n",
       "      <td>0.0</td>\n",
       "      <td>0.0</td>\n",
       "      <td>0.0</td>\n",
       "      <td>1.0</td>\n",
       "      <td>2800.0</td>\n",
       "      <td>4</td>\n",
       "      <td>0</td>\n",
       "      <td>3</td>\n",
       "      <td>7</td>\n",
       "      <td>9</td>\n",
       "    </tr>\n",
       "    <tr>\n",
       "      <th>1</th>\n",
       "      <td>23.00</td>\n",
       "      <td>135</td>\n",
       "      <td>0.2732</td>\n",
       "      <td>0.084</td>\n",
       "      <td>0.0</td>\n",
       "      <td>0.916</td>\n",
       "      <td>43</td>\n",
       "      <td>0.0</td>\n",
       "      <td>0.0</td>\n",
       "      <td>0.0</td>\n",
       "      <td>1.0</td>\n",
       "      <td>3900.0</td>\n",
       "      <td>4</td>\n",
       "      <td>0</td>\n",
       "      <td>127</td>\n",
       "      <td>13</td>\n",
       "      <td>9</td>\n",
       "    </tr>\n",
       "    <tr>\n",
       "      <th>2</th>\n",
       "      <td>19.21</td>\n",
       "      <td>90</td>\n",
       "      <td>0.0000</td>\n",
       "      <td>0.000</td>\n",
       "      <td>0.0</td>\n",
       "      <td>1.000</td>\n",
       "      <td>45</td>\n",
       "      <td>0.0</td>\n",
       "      <td>0.0</td>\n",
       "      <td>0.0</td>\n",
       "      <td>1.0</td>\n",
       "      <td>750.0</td>\n",
       "      <td>4</td>\n",
       "      <td>0</td>\n",
       "      <td>82</td>\n",
       "      <td>7</td>\n",
       "      <td>9</td>\n",
       "    </tr>\n",
       "    <tr>\n",
       "      <th>3</th>\n",
       "      <td>40.00</td>\n",
       "      <td>117</td>\n",
       "      <td>0.0000</td>\n",
       "      <td>0.000</td>\n",
       "      <td>0.0</td>\n",
       "      <td>1.000</td>\n",
       "      <td>44</td>\n",
       "      <td>0.0</td>\n",
       "      <td>0.0</td>\n",
       "      <td>0.0</td>\n",
       "      <td>1.0</td>\n",
       "      <td>4500.0</td>\n",
       "      <td>4</td>\n",
       "      <td>0</td>\n",
       "      <td>107</td>\n",
       "      <td>7</td>\n",
       "      <td>9</td>\n",
       "    </tr>\n",
       "    <tr>\n",
       "      <th>4</th>\n",
       "      <td>5.00</td>\n",
       "      <td>61</td>\n",
       "      <td>0.0000</td>\n",
       "      <td>0.000</td>\n",
       "      <td>0.0</td>\n",
       "      <td>1.000</td>\n",
       "      <td>12</td>\n",
       "      <td>0.0</td>\n",
       "      <td>0.0</td>\n",
       "      <td>0.0</td>\n",
       "      <td>1.0</td>\n",
       "      <td>1000.0</td>\n",
       "      <td>4</td>\n",
       "      <td>0</td>\n",
       "      <td>82</td>\n",
       "      <td>7</td>\n",
       "      <td>9</td>\n",
       "    </tr>\n",
       "  </tbody>\n",
       "</table>\n",
       "</div>"
      ],
      "text/plain": [
       "   campaign_length  blurb_length  blurb_sentiment_compound  \\\n",
       "0            21.96           118                    0.0000   \n",
       "1            23.00           135                    0.2732   \n",
       "2            19.21            90                    0.0000   \n",
       "3            40.00           117                    0.0000   \n",
       "4             5.00            61                    0.0000   \n",
       "\n",
       "   blurb_sentiment_positive  blurb_sentiment_negative  \\\n",
       "0                     0.000                       0.0   \n",
       "1                     0.084                       0.0   \n",
       "2                     0.000                       0.0   \n",
       "3                     0.000                       0.0   \n",
       "4                     0.000                       0.0   \n",
       "\n",
       "   blurb_sentiment_neutral  title_length  title_sentiment_compound  \\\n",
       "0                    1.000            46                       0.0   \n",
       "1                    0.916            43                       0.0   \n",
       "2                    1.000            45                       0.0   \n",
       "3                    1.000            44                       0.0   \n",
       "4                    1.000            12                       0.0   \n",
       "\n",
       "   title_sentiment_positive  title_sentiment_negative  \\\n",
       "0                       0.0                       0.0   \n",
       "1                       0.0                       0.0   \n",
       "2                       0.0                       0.0   \n",
       "3                       0.0                       0.0   \n",
       "4                       0.0                       0.0   \n",
       "\n",
       "   title_sentiment_neutral  usd_goal  country_encoded  currency_encoded  \\\n",
       "0                      1.0    2800.0                4                 0   \n",
       "1                      1.0    3900.0                4                 0   \n",
       "2                      1.0     750.0                4                 0   \n",
       "3                      1.0    4500.0                4                 0   \n",
       "4                      1.0    1000.0                4                 0   \n",
       "\n",
       "   category_encoded  parent_category_encoded  month_encoded  \n",
       "0                 3                        7              9  \n",
       "1               127                       13              9  \n",
       "2                82                        7              9  \n",
       "3               107                        7              9  \n",
       "4                82                        7              9  "
      ]
     },
     "execution_count": 9,
     "metadata": {},
     "output_type": "execute_result"
    }
   ],
   "source": [
    "# X['parent_category'] = parent_category_encoded\n",
    "# X['country'] = country_encoded\n",
    "# X['currency'] = currency_encoded\n",
    "# X['category'] = category_encoded\n",
    "# X['month'] = month_encoded\n",
    "X.head()"
   ]
  },
  {
   "cell_type": "code",
   "execution_count": 10,
   "metadata": {
    "collapsed": true
   },
   "outputs": [],
   "source": [
    "X_scaler = StandardScaler().fit(X)\n",
    "X_scaled = X_scaler.transform(X)"
   ]
  },
  {
   "cell_type": "code",
   "execution_count": 11,
   "metadata": {
    "collapsed": true
   },
   "outputs": [],
   "source": [
    "y_label_encoder = LabelEncoder()\n",
    "y_label_encoder.fit(y)\n",
    "y_encoded = y_label_encoder.transform(y)\n",
    "y_categorical = to_categorical(y_encoded)"
   ]
  },
  {
   "cell_type": "code",
   "execution_count": 12,
   "metadata": {
    "collapsed": true
   },
   "outputs": [],
   "source": [
    "results_df = pd.DataFrame()"
   ]
  },
  {
   "cell_type": "code",
   "execution_count": 13,
   "metadata": {
    "collapsed": true
   },
   "outputs": [],
   "source": [
    "from sklearn.model_selection import train_test_split\n",
    "X_train, X_test, y_train, y_test = train_test_split(X, y, random_state=42)"
   ]
  },
  {
   "cell_type": "markdown",
   "metadata": {},
   "source": [
    "# Random Forest"
   ]
  },
  {
   "cell_type": "code",
   "execution_count": 14,
   "metadata": {
    "collapsed": true
   },
   "outputs": [],
   "source": [
    "from sklearn import tree\n",
    "from sklearn.ensemble import RandomForestClassifier\n",
    "\n",
    "rf = RandomForestClassifier(n_estimators=200)\n",
    "rf = rf.fit(X_train, y_train)\n",
    "rf_train_score = rf.score(X_train, y_train)\n",
    "rf_test_score = rf.score(X_test, y_test)"
   ]
  },
  {
   "cell_type": "code",
   "execution_count": 15,
   "metadata": {},
   "outputs": [
    {
     "data": {
      "text/plain": [
       "[(0.16546878801552659, 'category_encoded'),\n",
       " (0.12314713290506701, 'usd_goal'),\n",
       " (0.091072145583344838, 'title_length'),\n",
       " (0.089758625570720063, 'parent_category_encoded'),\n",
       " (0.081842213851894219, 'blurb_length'),\n",
       " (0.077834405609785509, 'campaign_length'),\n",
       " (0.063294477789015813, 'blurb_sentiment_compound'),\n",
       " (0.060882374373097077, 'blurb_sentiment_neutral'),\n",
       " (0.057640923044694745, 'month_encoded'),\n",
       " (0.056471840612101636, 'blurb_sentiment_positive'),\n",
       " (0.026054846746090012, 'title_sentiment_compound'),\n",
       " (0.024844543335242202, 'title_sentiment_neutral'),\n",
       " (0.02246961741461467, 'blurb_sentiment_negative'),\n",
       " (0.020757254766548026, 'title_sentiment_positive'),\n",
       " (0.014884719289082254, 'currency_encoded'),\n",
       " (0.014485101401279739, 'country_encoded'),\n",
       " (0.0090909896918954809, 'title_sentiment_negative')]"
      ]
     },
     "execution_count": 15,
     "metadata": {},
     "output_type": "execute_result"
    }
   ],
   "source": [
    "importances = rf.feature_importances_\n",
    "sorted(zip(rf.feature_importances_, X.columns), reverse=True)"
   ]
  },
  {
   "cell_type": "code",
   "execution_count": 16,
   "metadata": {},
   "outputs": [
    {
     "data": {
      "text/html": [
       "<div>\n",
       "<style>\n",
       "    .dataframe thead tr:only-child th {\n",
       "        text-align: right;\n",
       "    }\n",
       "\n",
       "    .dataframe thead th {\n",
       "        text-align: left;\n",
       "    }\n",
       "\n",
       "    .dataframe tbody tr th {\n",
       "        vertical-align: top;\n",
       "    }\n",
       "</style>\n",
       "<table border=\"1\" class=\"dataframe\">\n",
       "  <thead>\n",
       "    <tr style=\"text-align: right;\">\n",
       "      <th></th>\n",
       "      <th>model</th>\n",
       "      <th>test_score</th>\n",
       "      <th>train_score</th>\n",
       "    </tr>\n",
       "  </thead>\n",
       "  <tbody>\n",
       "    <tr>\n",
       "      <th>0</th>\n",
       "      <td>random_forest</td>\n",
       "      <td>0.746721</td>\n",
       "      <td>0.999986</td>\n",
       "    </tr>\n",
       "  </tbody>\n",
       "</table>\n",
       "</div>"
      ],
      "text/plain": [
       "           model  test_score  train_score\n",
       "0  random_forest    0.746721     0.999986"
      ]
     },
     "execution_count": 16,
     "metadata": {},
     "output_type": "execute_result"
    }
   ],
   "source": [
    "results_df = results_df.append({\"model\":\"random_forest\",\n",
    "                                \"train_score\":rf_train_score,\n",
    "                                \"test_score\":rf_test_score}, \n",
    "                               ignore_index=True)\n",
    "results_df"
   ]
  },
  {
   "cell_type": "code",
   "execution_count": 43,
   "metadata": {},
   "outputs": [
    {
     "data": {
      "text/plain": [
       "['models/random_forest.pkl']"
      ]
     },
     "execution_count": 43,
     "metadata": {},
     "output_type": "execute_result"
    }
   ],
   "source": [
    "from sklearn.externals import joblib\n",
    "model_name = 'random_forest'\n",
    "joblib.dump(rf, f'models/{model_name}.pkl') "
   ]
  },
  {
   "cell_type": "code",
   "execution_count": 44,
   "metadata": {
    "collapsed": true
   },
   "outputs": [],
   "source": [
    "loaded_model = joblib.load(f'models/{model_name}.pkl')"
   ]
  },
  {
   "cell_type": "code",
   "execution_count": 46,
   "metadata": {},
   "outputs": [
    {
     "data": {
      "text/plain": [
       "0.74672052726692884"
      ]
     },
     "execution_count": 46,
     "metadata": {},
     "output_type": "execute_result"
    }
   ],
   "source": [
    "loaded_model.score(X_test, y_test)"
   ]
  },
  {
   "cell_type": "markdown",
   "metadata": {
    "collapsed": true
   },
   "source": [
    "# Logistic Regression"
   ]
  },
  {
   "cell_type": "code",
   "execution_count": 20,
   "metadata": {
    "collapsed": true
   },
   "outputs": [],
   "source": [
    "from sklearn.linear_model import LogisticRegression\n",
    "classifier = LogisticRegression()\n",
    "\n",
    "classifier.fit(X_train, y_train)\n",
    "lr_train_score = classifier.score(X_train, y_train)\n",
    "lr_test_score = classifier.score(X_test, y_test)"
   ]
  },
  {
   "cell_type": "code",
   "execution_count": 21,
   "metadata": {},
   "outputs": [
    {
     "data": {
      "text/html": [
       "<div>\n",
       "<style>\n",
       "    .dataframe thead tr:only-child th {\n",
       "        text-align: right;\n",
       "    }\n",
       "\n",
       "    .dataframe thead th {\n",
       "        text-align: left;\n",
       "    }\n",
       "\n",
       "    .dataframe tbody tr th {\n",
       "        vertical-align: top;\n",
       "    }\n",
       "</style>\n",
       "<table border=\"1\" class=\"dataframe\">\n",
       "  <thead>\n",
       "    <tr style=\"text-align: right;\">\n",
       "      <th></th>\n",
       "      <th>model</th>\n",
       "      <th>test_score</th>\n",
       "      <th>train_score</th>\n",
       "    </tr>\n",
       "  </thead>\n",
       "  <tbody>\n",
       "    <tr>\n",
       "      <th>0</th>\n",
       "      <td>random_forest</td>\n",
       "      <td>0.746721</td>\n",
       "      <td>0.999986</td>\n",
       "    </tr>\n",
       "    <tr>\n",
       "      <th>1</th>\n",
       "      <td>logistic_regression</td>\n",
       "      <td>0.605634</td>\n",
       "      <td>0.606901</td>\n",
       "    </tr>\n",
       "  </tbody>\n",
       "</table>\n",
       "</div>"
      ],
      "text/plain": [
       "                 model  test_score  train_score\n",
       "0        random_forest    0.746721     0.999986\n",
       "1  logistic_regression    0.605634     0.606901"
      ]
     },
     "execution_count": 21,
     "metadata": {},
     "output_type": "execute_result"
    }
   ],
   "source": [
    "results_df = results_df.append({\"model\":\"logistic_regression\",\n",
    "                                \"train_score\":lr_train_score,\n",
    "                                \"test_score\":lr_test_score}, \n",
    "                               ignore_index=True)\n",
    "results_df"
   ]
  },
  {
   "cell_type": "markdown",
   "metadata": {},
   "source": [
    "# K Nearest Neighbors"
   ]
  },
  {
   "cell_type": "code",
   "execution_count": 22,
   "metadata": {},
   "outputs": [
    {
     "data": {
      "image/png": "[encoded data removed]",
      "text/plain": [
       "<matplotlib.figure.Figure at 0x1c9004d1b38>"
      ]
     },
     "metadata": {},
     "output_type": "display_data"
    }
   ],
   "source": [
    "from sklearn.neighbors import KNeighborsClassifier\n",
    "import matplotlib.pyplot as plt\n",
    "\n",
    "train_scores = []\n",
    "test_scores = []\n",
    "\n",
    "for k in range(1,20,2):\n",
    "    knn = KNeighborsClassifier(n_neighbors=k)\n",
    "    knn.fit(X_train, y_train)\n",
    "    train_score = knn.score(X_train, y_train)\n",
    "    test_score = knn.score(X_test, y_test)\n",
    "    train_scores.append(train_score)\n",
    "    test_scores.append(test_score)\n",
    "\n",
    "plt.plot(range(1, 20, 2), train_scores, marker='o')\n",
    "plt.plot(range(1, 20, 2), test_scores, marker=\"x\")\n",
    "plt.xlabel(\"k neighbors\")\n",
    "plt.ylabel(\"Testing accuracy Score\")\n",
    "plt.show()"
   ]
  },
  {
   "cell_type": "code",
   "execution_count": 23,
   "metadata": {},
   "outputs": [
    {
     "data": {
      "text/html": [
       "<div>\n",
       "<style>\n",
       "    .dataframe thead tr:only-child th {\n",
       "        text-align: right;\n",
       "    }\n",
       "\n",
       "    .dataframe thead th {\n",
       "        text-align: left;\n",
       "    }\n",
       "\n",
       "    .dataframe tbody tr th {\n",
       "        vertical-align: top;\n",
       "    }\n",
       "</style>\n",
       "<table border=\"1\" class=\"dataframe\">\n",
       "  <thead>\n",
       "    <tr style=\"text-align: right;\">\n",
       "      <th></th>\n",
       "      <th>model</th>\n",
       "      <th>test_score</th>\n",
       "      <th>train_score</th>\n",
       "    </tr>\n",
       "  </thead>\n",
       "  <tbody>\n",
       "    <tr>\n",
       "      <th>0</th>\n",
       "      <td>random_forest</td>\n",
       "      <td>0.746721</td>\n",
       "      <td>0.999986</td>\n",
       "    </tr>\n",
       "    <tr>\n",
       "      <th>1</th>\n",
       "      <td>logistic_regression</td>\n",
       "      <td>0.605634</td>\n",
       "      <td>0.606901</td>\n",
       "    </tr>\n",
       "    <tr>\n",
       "      <th>2</th>\n",
       "      <td>k_nearest_neigbors_9</td>\n",
       "      <td>0.623259</td>\n",
       "      <td>0.715617</td>\n",
       "    </tr>\n",
       "  </tbody>\n",
       "</table>\n",
       "</div>"
      ],
      "text/plain": [
       "                  model  test_score  train_score\n",
       "0         random_forest    0.746721     0.999986\n",
       "1   logistic_regression    0.605634     0.606901\n",
       "2  k_nearest_neigbors_9    0.623259     0.715617"
      ]
     },
     "execution_count": 23,
     "metadata": {},
     "output_type": "execute_result"
    }
   ],
   "source": [
    "results_df = results_df.append({\"model\":\"k_nearest_neigbors_9\",\n",
    "                                \"train_score\":train_scores[3],\n",
    "                                \"test_score\":test_scores[3]}, \n",
    "                               ignore_index=True)\n",
    "results_df"
   ]
  },
  {
   "cell_type": "markdown",
   "metadata": {},
   "source": [
    "# SVM"
   ]
  },
  {
   "cell_type": "code",
   "execution_count": 24,
   "metadata": {
    "collapsed": true
   },
   "outputs": [],
   "source": [
    "# from sklearn.svm import SVC\n",
    "\n",
    "# model = SVC(kernel='linear')\n",
    "# model.fit(X_train, y_train)\n",
    "\n",
    "# svm_train_score = model.score(X_train, y_train)\n",
    "# svm_test_score = model.score(X_test, y_test)"
   ]
  },
  {
   "cell_type": "code",
   "execution_count": 25,
   "metadata": {
    "collapsed": true
   },
   "outputs": [],
   "source": [
    "# results_df = results_df.append({\"model\":\"svm\",\n",
    "#                                 \"train_score\":svm_train_score,\n",
    "#                                 \"test_score\":svm_test_score}, \n",
    "#                                ignore_index=True)\n",
    "# results_df"
   ]
  },
  {
   "cell_type": "markdown",
   "metadata": {},
   "source": [
    "# Neural Networks"
   ]
  },
  {
   "cell_type": "code",
   "execution_count": 26,
   "metadata": {
    "collapsed": true
   },
   "outputs": [],
   "source": [
    "X_train, X_test, y_cat_train, y_cat_test = train_test_split(X, y_categorical, random_state=42)"
   ]
  },
  {
   "cell_type": "code",
   "execution_count": 27,
   "metadata": {},
   "outputs": [
    {
     "name": "stdout",
     "output_type": "stream",
     "text": [
      "Epoch 1/10\n",
      " - 11s - loss: 0.2928 - acc: 0.5607\n",
      "Epoch 2/10\n",
      " - 11s - loss: 0.2921 - acc: 0.5618\n",
      "Epoch 3/10\n",
      " - 11s - loss: 0.2921 - acc: 0.5618\n",
      "Epoch 4/10\n",
      " - 11s - loss: 0.2921 - acc: 0.5618\n",
      "Epoch 5/10\n",
      " - 11s - loss: 0.2921 - acc: 0.5618\n",
      "Epoch 6/10\n",
      " - 11s - loss: 0.2921 - acc: 0.5618\n",
      "Epoch 7/10\n",
      " - 11s - loss: 0.2921 - acc: 0.5618\n",
      "Epoch 8/10\n",
      " - 11s - loss: 0.2921 - acc: 0.5618\n",
      "Epoch 9/10\n",
      " - 11s - loss: 0.2921 - acc: 0.5618\n",
      "Epoch 10/10\n",
      " - 11s - loss: 0.2921 - acc: 0.5618\n"
     ]
    },
    {
     "data": {
      "text/plain": [
       "<keras.callbacks.History at 0x1c90b720630>"
      ]
     },
     "execution_count": 27,
     "metadata": {},
     "output_type": "execute_result"
    }
   ],
   "source": [
    "from keras.models import Sequential\n",
    "from keras.layers import Dense\n",
    "\n",
    "model = Sequential()\n",
    "model.add(Dense(units=100, activation='relu', input_dim=17))\n",
    "model.add(Dense(units=300, activation='relu'))\n",
    "model.add(Dense(units=3,activation=\"softmax\"))\n",
    "\n",
    "model.compile(optimizer='adam',\n",
    "             loss='mean_squared_error',\n",
    "             metrics=['accuracy'])\n",
    "\n",
    "model.fit(\n",
    "    X_train,\n",
    "    y_cat_train,\n",
    "    epochs=10,\n",
    "    shuffle=True,\n",
    "    verbose=2\n",
    ")"
   ]
  },
  {
   "cell_type": "code",
   "execution_count": 33,
   "metadata": {},
   "outputs": [
    {
     "data": {
      "text/html": [
       "<div>\n",
       "<style>\n",
       "    .dataframe thead tr:only-child th {\n",
       "        text-align: right;\n",
       "    }\n",
       "\n",
       "    .dataframe thead th {\n",
       "        text-align: left;\n",
       "    }\n",
       "\n",
       "    .dataframe tbody tr th {\n",
       "        vertical-align: top;\n",
       "    }\n",
       "</style>\n",
       "<table border=\"1\" class=\"dataframe\">\n",
       "  <thead>\n",
       "    <tr style=\"text-align: right;\">\n",
       "      <th></th>\n",
       "      <th>model</th>\n",
       "      <th>test_score</th>\n",
       "      <th>train_score</th>\n",
       "    </tr>\n",
       "  </thead>\n",
       "  <tbody>\n",
       "    <tr>\n",
       "      <th>0</th>\n",
       "      <td>random_forest</td>\n",
       "      <td>0.746721</td>\n",
       "      <td>0.999986</td>\n",
       "    </tr>\n",
       "    <tr>\n",
       "      <th>1</th>\n",
       "      <td>logistic_regression</td>\n",
       "      <td>0.605634</td>\n",
       "      <td>0.606901</td>\n",
       "    </tr>\n",
       "    <tr>\n",
       "      <th>2</th>\n",
       "      <td>k_nearest_neigbors_9</td>\n",
       "      <td>0.623259</td>\n",
       "      <td>0.715617</td>\n",
       "    </tr>\n",
       "    <tr>\n",
       "      <th>3</th>\n",
       "      <td>neural_network</td>\n",
       "      <td>0.561412</td>\n",
       "      <td>0.561821</td>\n",
       "    </tr>\n",
       "  </tbody>\n",
       "</table>\n",
       "</div>"
      ],
      "text/plain": [
       "                  model  test_score  train_score\n",
       "0         random_forest    0.746721     0.999986\n",
       "1   logistic_regression    0.605634     0.606901\n",
       "2  k_nearest_neigbors_9    0.623259     0.715617\n",
       "3        neural_network    0.561412     0.561821"
      ]
     },
     "execution_count": 33,
     "metadata": {},
     "output_type": "execute_result"
    }
   ],
   "source": [
    "model_loss, nn_train_score = model.evaluate(X_train, y_cat_train, verbose=2)\n",
    "model_loss, nn_test_score = model.evaluate(X_test, y_cat_test, verbose=2)\n",
    "\n",
    "results_df = results_df.append({\"model\":\"neural_network\",\n",
    "                                \"train_score\":nn_train_score,\n",
    "                                \"test_score\":nn_test_score}, \n",
    "                               ignore_index=True)\n",
    "results_df"
   ]
  },
  {
   "cell_type": "markdown",
   "metadata": {},
   "source": [
    "# Dictionary of Encoded Categorical Features to Feature Names"
   ]
  },
  {
   "cell_type": "code",
   "execution_count": 40,
   "metadata": {},
   "outputs": [
    {
     "name": "stdout",
     "output_type": "stream",
     "text": [
      "country_dic:\n",
      "{'CH': 0, 'IE': 1, 'DK': 2, 'FR': 3, 'US': 4, 'SE': 5, 'ES': 6, 'GB': 7, 'AU': 8, 'IT': 9, 'LU': 10, 'BE': 11, 'DE': 12, 'CA': 13, 'SG': 14, 'AT': 15, 'JP': 16, 'NO': 17, 'NL': 18, 'NZ': 19, 'MX': 20, 'HK': 21}\n",
      "currency_dic:\n",
      "{'USD': 0, 'EUR': 1, 'MXN': 2, 'HKD': 3, 'JPY': 4, 'NZD': 5, 'SGD': 6, 'AUD': 7, 'GBP': 8, 'CAD': 9, 'NOK': 10, 'SEK': 11, 'DKK': 12, 'CHF': 13}\n",
      "category_name_dic:\n",
      "{'Publishing': 0, 'Nonfiction': 1, 'Web': 2, 'Mixed Media': 3, 'Classical Music': 4, 'Journalism': 5, 'Tabletop Games': 6, 'Country & Folk': 7, 'Installations': 8, 'Embroidery': 9, 'Indie Rock': 10, 'Faith': 11, 'Academic': 12, 'Comic Books': 13, 'Accessories': 14, 'Vegan': 15, 'Art Books': 16, 'Residencies': 17, 'Latin': 18, 'Hardware': 19, 'Glass': 20, 'Candles': 21, 'Bacon': 22, 'Product Design': 23, 'Food': 24, 'Literary Spaces': 25, 'Illustration': 26, 'Television': 27, \"Children's Books\": 28, 'Makerspaces': 29, 'Webseries': 30, 'Fine Art': 31, 'Animation': 32, 'Pottery': 33, 'Festivals': 34, 'Ready-to-wear': 35, 'Action': 36, 'Camera Equipment': 37, 'Places': 38, 'Civic Design': 39, 'Animals': 40, 'DIY': 41, 'Fiction': 42, 'Conceptual Art': 43, 'Drama': 44, 'Kids': 45, 'Live Games': 46, 'Plays': 47, 'Knitting': 48, 'Sound': 49, 'Poetry': 50, 'Video': 51, 'Taxidermy': 52, 'Robots': 53, 'Typography': 54, 'Spaces': 55, 'Letterpress': 56, 'Technology': 57, 'Community Gardens': 58, 'Webcomics': 59, 'Space Exploration': 60, 'Musical': 61, 'Thrillers': 62, 'Young Adult': 63, 'Family': 64, 'Experimental': 65, 'Science Fiction': 66, 'People': 67, 'Fantasy': 68, 'Graphic Design': 69, 'Architecture': 70, 'Jazz': 71, 'Graphic Novels': 72, 'Blues': 73, 'R&B': 74, 'DIY Electronics': 75, 'Small Batch': 76, 'Metal': 77, '3D Printing': 78, 'Performances': 79, 'Footwear': 80, 'Games': 81, 'Painting': 82, 'Video Art': 83, 'Translations': 84, 'Design': 85, 'Pop': 86, 'Mobile Games': 87, 'Print': 88, 'Music': 89, 'Periodicals': 90, 'Literary Journals': 91, 'Sculpture': 92, 'Documentary': 93, 'Gaming Hardware': 94, 'Wearables': 95, 'Romance': 96, 'Hip-Hop': 97, 'Comics': 98, 'Woodworking': 99, 'Movie Theaters': 100, \"Farmer's Markets\": 101, 'Crafts': 102, 'Drinks': 103, 'World Music': 104, 'Ceramics': 105, 'Electronic Music': 106, 'Public Art': 107, 'Nature': 108, 'Theater': 109, 'Flight': 110, 'Textiles': 111, 'Interactive Design': 112, 'Pet Fashion': 113, 'Gadgets': 114, 'Radio & Podcasts': 115, 'Anthologies': 116, 'Stationery': 117, 'Couture': 118, 'Jewelry': 119, 'Shorts': 120, 'Software': 121, 'Chiptune': 122, 'Audio': 123, 'Dance': 124, 'Farms': 125, 'Crochet': 126, 'Art': 127, 'Comedy': 128, 'Apps': 129, 'Zines': 130, 'Horror': 131, 'Rock': 132, 'Photobooks': 133, 'Puzzles': 134, 'Weaving': 135, 'Film & Video': 136, 'Calendars': 137, 'Video Games': 138, 'Printing': 139, 'Playing Cards': 140, 'Photography': 141, 'Fabrication Tools': 142, 'Childrenswear': 143, 'Digital Art': 144, 'Cookbooks': 145, 'Apparel': 146, 'Photo': 147, 'Performance Art': 148, 'Events': 149, 'Music Videos': 150, 'Restaurants': 151, 'Food Trucks': 152, 'Punk': 153, 'Immersive': 154, 'Workshops': 155, 'Quilts': 156, 'Narrative Film': 157}\n",
      "parent_category_dic:\n",
      "{'Design': 0, 'Photography': 1, 'Publishing': 2, 'Technology': 3, 'Dance': 4, 'Film & Video': 5, 'Journalism': 6, 'Art': 7, 'Theater': 8, 'Crafts': 9, 'Music': 10, 'Food': 11, 'Games': 12, 'none': 13, 'Comics': 14}\n",
      "month_dic:\n",
      "{'June': 0, 'April': 1, 'August': 2, 'February': 3, 'September': 4, 'July': 5, 'October': 6, 'January': 7, 'May': 8, 'March': 9, 'December': 10, 'November': 11}\n"
     ]
    }
   ],
   "source": [
    "print('country_dic:')\n",
    "print(country_dic)\n",
    "print('currency_dic:')\n",
    "print(currency_dic)\n",
    "print('category_name_dic:')\n",
    "print(category_name_dic)\n",
    "print('parent_category_dic:')\n",
    "print(parent_category_dic)\n",
    "print('month_dic:')\n",
    "print(month_dic)"
   ]
  },
  {
   "cell_type": "code",
   "execution_count": null,
   "metadata": {
    "collapsed": true
   },
   "outputs": [],
   "source": []
  }
 ],
 "metadata": {
  "kernelspec": {
   "display_name": "Python 3",
   "language": "python",
   "name": "python3"
  },
  "language_info": {
   "codemirror_mode": {
    "name": "ipython",
    "version": 3
   },
   "file_extension": ".py",
   "mimetype": "text/x-python",
   "name": "python",
   "nbconvert_exporter": "python",
   "pygments_lexer": "ipython3",
   "version": "3.6.2"
  }
 },
 "nbformat": 4,
 "nbformat_minor": 2
}
